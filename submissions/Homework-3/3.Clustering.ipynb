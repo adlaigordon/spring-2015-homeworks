{
 "metadata": {
  "name": "",
  "signature": "sha256:e0cc3c4130442398c6f3d0972313a310d586a58f6dc446f400930769661144ab"
 },
 "nbformat": 3,
 "nbformat_minor": 0,
 "worksheets": [
  {
   "cells": [
    {
     "cell_type": "markdown",
     "metadata": {},
     "source": [
      "(In order to load the stylesheet of this notebook, execute the last code cell in this notebook)"
     ]
    },
    {
     "cell_type": "heading",
     "level": 1,
     "metadata": {},
     "source": [
      "Clustering the data from the Mayor's 24-hour hotline in Boston"
     ]
    },
    {
     "cell_type": "heading",
     "level": 2,
     "metadata": {},
     "source": [
      "Introduction "
     ]
    },
    {
     "cell_type": "markdown",
     "metadata": {},
     "source": [
      "In this assignment, we will do a clustering analysis on the 311 calls that we used in the previous homework. We will focus on choosing a value for k, clustering based on multiple features and detecting outliers.\n",
      "\n",
      "---------------------------"
     ]
    },
    {
     "cell_type": "code",
     "collapsed": false,
     "input": [
      "%matplotlib inline\n",
      "import pandas as pd\n",
      "import seaborn as sns\n",
      "from matplotlib import pyplot as plt\n",
      "import numpy as np\n",
      "import scipy as sp\n",
      "import matplotlib.pyplot as plt\n",
      "import pandas as pd\n",
      "import sklearn.datasets as sk_data\n",
      "import sklearn.metrics as metrics\n",
      "from sklearn.cluster import KMeans"
     ],
     "language": "python",
     "metadata": {},
     "outputs": [],
     "prompt_number": 2
    },
    {
     "cell_type": "code",
     "collapsed": false,
     "input": [
      "boston = pd.read_csv('../Homework-2/cases_2015.csv')"
     ],
     "language": "python",
     "metadata": {},
     "outputs": [],
     "prompt_number": 3
    },
    {
     "cell_type": "code",
     "collapsed": false,
     "input": [
      "print \"test\""
     ],
     "language": "python",
     "metadata": {},
     "outputs": [
      {
       "output_type": "stream",
       "stream": "stdout",
       "text": [
        "test\n"
       ]
      }
     ],
     "prompt_number": 7
    },
    {
     "cell_type": "heading",
     "level": 2,
     "metadata": {},
     "source": [
      "Step 1. Simple clustering"
     ]
    },
    {
     "cell_type": "markdown",
     "metadata": {},
     "source": [
      "The first thing that we will try is to cluster the geolocation data of the calls. The geolocation of a record consists of a pair `(latitude, longitude)`, which represents the position of the record on the map. Since the dataset that we have spans only a small geographic location, i.e. Boston, we will use the Euclidean distance when measuring how close two points are. Techinically, we should pick a [projection](https://github.com/mbostock/d3/wiki/Geo-Projections) in order to transform the data into 2d, and measure  the Euclidean distance in the projected space."
     ]
    },
    {
     "cell_type": "markdown",
     "metadata": {},
     "source": [
      "Since we are dealing with numeric data, we might consider centering and normalizing them. In order to do that, check the [StandardScaler](http://scikit-learn.org/stable/modules/generated/sklearn.preprocessing.StandardScaler.html#sklearn.preprocessing.StandardScaler) from `scikit-learn`."
     ]
    },
    {
     "cell_type": "markdown",
     "metadata": {},
     "source": [
      "For exampe, the result of a clustering with 10 clusters is the following:\n",
      "\n",
      "\n",
      "![A clustering of the locations of the calls for k=10](clusters10.png)"
     ]
    },
    {
     "cell_type": "markdown",
     "metadata": {},
     "source": [
      "Filter the dataset to get the latitude and longitude, transform it as required and run the k-means clustering algorithm. Argue about the number of clusters you used. **(pts 50)**"
     ]
    },
    {
     "cell_type": "code",
     "collapsed": false,
     "input": [
      "from sklearn.metrics.pairwise import euclidean_distances\n",
      "from sklearn.preprocessing import StandardScaler \n",
      "from sklearn.cluster import KMeans\n",
      "from matplotlib import colors\n",
      "import six\n",
      "X_full = zip(boston.LONGITUDE, boston.LATITUDE)\n",
      "#X = X_full\n",
      "X = X_full[:10000]\n",
      "#### My computer crashes if I make X be the whole set, so I had to limit it to 10000 ####\n",
      "\n",
      "a = euclidean_distances(X, X)\n",
      "\n",
      "error = np.zeros(15)\n",
      "error[0] = 0;\n",
      "for k in range(1,15):\n",
      "    kmeans = KMeans(init='k-means++', n_clusters=k, n_init=10)\n",
      "    kmeans.fit_predict(X)\n",
      "    error[k] = kmeans.inertia_\n",
      "\n",
      "plt.figure(0)\n",
      "plt.plot(range(1,len(error)),error[1:])\n",
      "plt.xlabel('Number of clusters')\n",
      "plt.ylabel('Error')\n",
      "\n",
      "kmeans = KMeans(init='k-means++', n_clusters=10, n_init=10)\n",
      "kmeans.fit_predict(X)\n",
      "centroids = kmeans.cluster_centers_\n",
      "labels = kmeans.labels_\n",
      "error = kmeans.inertia_\n",
      "\n",
      "print \"The total error of the clustering is: \", error\n",
      "print '\\nCluster labels'\n",
      "print labels\n",
      "print '\\n Cluster Centroids'\n",
      "print centroids\n",
      "\n",
      "plt.figure(1)\n",
      "def ri_evaluate_clusters(X,max_clusters,ground_truth):\n",
      "    ri = np.zeros(max_clusters+1)\n",
      "    ri[0] = 0;\n",
      "    for k in range(1,max_clusters+1):\n",
      "        kmeans = KMeans(init='k-means++', n_clusters=k, n_init=10)\n",
      "        kmeans.fit_predict(X)\n",
      "        ri[k] = metrics.adjusted_rand_score(kmeans.labels_,ground_truth)\n",
      "    plt.plot(range(1,len(ri)),ri[1:])\n",
      "    plt.xlabel('Number of clusters')\n",
      "    plt.ylabel('Adjusted Rand Index')\n",
      "\n",
      "plt.figure(2)\n",
      "x = [a for (a, b) in X]\n",
      "y = [b for (a, b) in X]\n",
      "\n",
      "colors = [b for (a, b) in list(six.iteritems(colors.cnames))]\n",
      "\n",
      "for i in range(len(x)):\n",
      "    #start = i * 10\n",
      "    #finish = (i + 1) * 10\n",
      "    plt.scatter(x[i], y[i], color=colors[labels[i]], s=1)\n",
      "\n",
      "# As we can see from the first graph, the error doesn't get much better after going above 10 clusters"
     ],
     "language": "python",
     "metadata": {},
     "outputs": [
      {
       "output_type": "stream",
       "stream": "stdout",
       "text": [
        "The total error of the clustering is:  1.7872912586\n",
        "\n",
        "Cluster labels\n",
        "[5 0 0 ..., 1 5 5]\n",
        "\n",
        " Cluster Centroids\n",
        "[[-71.08180535  42.3417249 ]\n",
        " [-71.07240275  42.28616963]\n",
        " [-71.14419441  42.3511568 ]\n",
        " [-71.15261212  42.28212761]\n",
        " [-71.04442885  42.33488824]\n",
        " [-71.0608275   42.36215237]\n",
        " [-71.06872279  42.31193224]\n",
        " [-71.10606049  42.31721417]\n",
        " [-71.11968337  42.26828925]\n",
        " [-71.02770654  42.37818905]]\n"
       ]
      },
      {
       "metadata": {},
       "output_type": "display_data",
       "png": "[encoded data removed]",
       "text": [
        "<matplotlib.figure.Figure at 0x11f6acb50>"
       ]
      },
      {
       "metadata": {},
       "output_type": "display_data",
       "text": [
        "<matplotlib.figure.Figure at 0x10dadff50>"
       ]
      },
      {
       "metadata": {},
       "output_type": "display_data",
       "png": "[encoded data removed]",
       "text": [
        "<matplotlib.figure.Figure at 0x11dfea790>"
       ]
      }
     ],
     "prompt_number": 18
    },
    {
     "cell_type": "markdown",
     "metadata": {},
     "source": [
      "-----"
     ]
    },
    {
     "cell_type": "heading",
     "level": 2,
     "metadata": {},
     "source": [
      "Step 2. Using multiple features"
     ]
    },
    {
     "cell_type": "markdown",
     "metadata": {},
     "source": [
      "The next step in our analysis is to use more features than just the geolocation of a record (whose clustering only gives us information about the neighborhoods, which should not be a huge revelation!) Filter the dataset to get more features, transform them as required and compute another clustering. You should argue about the quality of your clustering and use domain knowledge (i.e. the fact that you are locals) to explore the clusters you produced and present them to the reader. **(pts 30)**"
     ]
    },
    {
     "cell_type": "code",
     "collapsed": false,
     "input": [
      "#boston.info()\n",
      "pd.set_option('display.max_columns', None)\n",
      "pd.set_option('display.max_rows', None)\n",
      "boston.TYPE.value_counts()"
     ],
     "language": "python",
     "metadata": {},
     "outputs": [
      {
       "metadata": {},
       "output_type": "pyout",
       "prompt_number": 22,
       "text": [
        "Request for Snow Plowing                           18625\n",
        "Snow Removal                                        7434\n",
        "Missed Trash/Recycling/Yard Waste/Bulk Item         3800\n",
        "General Comments For a Program or Policy            1417\n",
        "Requests for Street Cleaning                        1088\n",
        "Street Light Outages                                 847\n",
        "Request for Pothole Repair                           808\n",
        "Misc. Snow Complaint                                 768\n",
        "Schedule a Bulk Item Pickup                          747\n",
        "Heat - Excessive  Insufficient                       519\n",
        "Empty Litter Basket                                  507\n",
        "Traffic Signal Repair                                465\n",
        "Request for Snow Plowing (Emergency Responder)       464\n",
        "Parking Enforcement                                  458\n",
        "PWD Graffiti                                         449\n",
        "Schedule a Bulk Item Pickup SS                       374\n",
        "City/State Snow Issues                               328\n",
        "Fire Department Request                              319\n",
        "Unsatisfactory Living Conditions                     294\n",
        "Graffiti Removal                                     290\n",
        "Sign Repair                                          279\n",
        "Transfer Not Completed                               273\n",
        "Tree Maintenance Requests                            267\n",
        "OCR Front Desk Interactions                          240\n",
        "MBTA Request                                         233\n",
        "Abandoned Vehicles                                   225\n",
        "Pothole Repair (Internal)                            219\n",
        "Improper Storage of Trash (Barrels)                  203\n",
        "Animal Generic Request                               202\n",
        "Ground Maintenance                                   201\n",
        "Sticker Request                                      186\n",
        "School Facility Issues                               180\n",
        "Space Savers                                         172\n",
        "Building Inspection Request                          160\n",
        "General Comments For An Employee                     152\n",
        "Notification                                         127\n",
        "Illegal Dumping                                      125\n",
        "Contractor Complaints                                122\n",
        "Unsafe Dangerous Conditions                          119\n",
        "General Lighting Request                             118\n",
        "Sidewalk Repair (Make Safe)                          110\n",
        "Pick up Dead Animal                                  103\n",
        "Public Works General Request                         103\n",
        "Call Log                                              89\n",
        "Missing Sign                                          87\n",
        "New Sign  Crosswalk or Pavement Marking               83\n",
        "Utility Call-In                                       81\n",
        "Street Light Knock Downs                              81\n",
        "Requests for Traffic Signal Studies or Reviews        77\n",
        "Electrical                                            73\n",
        "Alert Boston                                          72\n",
        "Poor Conditions of Property                           67\n",
        "Maintenance Complaint - Residential                   66\n",
        "Idea Collection                                       62\n",
        "New Tree Requests                                     58\n",
        "Work w/out Permit                                     55\n",
        "Chronic Dampness/Mold                                 54\n",
        "Rodent Activity                                       53\n",
        "Major System Failure                                  49\n",
        "No Utilities Residential - Water                      46\n",
        "Catchbasin                                            43\n",
        "Parking on Front/Back Yards (Illegal Parking)         42\n",
        "General Transportation Issues                         41\n",
        "Tree Emergencies                                      41\n",
        "Contractors Complaint                                 39\n",
        "Sidewalk Cover / Manhole                              38\n",
        "Illegal Occupancy                                     38\n",
        "News Boxes                                            38\n",
        "Mice Infestation - Residential                        37\n",
        "Cross Metering - Sub-Metering                         36\n",
        "Bed Bugs                                              34\n",
        "General School Request                                34\n",
        "Request for Recycling Cart                            34\n",
        "Unsanitary Conditions - Establishment                 33\n",
        "Knockdown Replacement                                 33\n",
        "Animal Found                                          33\n",
        "Unsanitary Conditions - Food                          31\n",
        "Overflowing or Un-kept Dumpster                       30\n",
        "Breathe Easy                                          30\n",
        "Sidewalk Repair                                       30\n",
        "Late Bus Issues                                       29\n",
        "Equipment Repair                                      27\n",
        "Transportation General Request                        26\n",
        "Fire Hydrant                                          26\n",
        "Unsatisfactory Utilities - Electrical  Plumbing       25\n",
        "Animal Lost                                           24\n",
        "Pavement Marking Maintenance                          22\n",
        "BWSC General Request                                  21\n",
        "Highway Maintenance                                   19\n",
        "Pest Infestation - Residential                        19\n",
        "Egress                                                18\n",
        "Abandoned Bicycle                                     17\n",
        "Food Alert - Unconfirmed                              17\n",
        "Parks General Request                                 16\n",
        "Working Beyond Hours                                  16\n",
        "Trash on Vacant Lot                                   15\n",
        "Illegal Rooming House                                 15\n",
        "Protection of Adjoining Property                      15\n",
        "Sidewalk Repair (Internal)                            14\n",
        "Plumbing                                              13\n",
        "Housing Discrimination Intake Form                    12\n",
        "Work Hours-Loud Noise Complaints                      12\n",
        "Squalid Living Conditions                             12\n",
        "Illegal Posting of Signs                              11\n",
        "Maintenance - Homeowner                               10\n",
        "Zoning                                                10\n",
        "Recycling Cart Return                                  9\n",
        "Request for Litter Basket Installation                 8\n",
        "Exceeding Terms of Permit                              8\n",
        "Parking Meter Repairs                                  8\n",
        "Construction Debris                                    8\n",
        "Litter Basket Maintenance                              8\n",
        "Roadway Repair                                         8\n",
        "Illegal Vending                                        8\n",
        "Abandoned Building                                     8\n",
        "Pavement Marking Inspection                            7\n",
        "Lead                                                   7\n",
        "No Utilities Residential - Electricity                 7\n",
        "Undefined Noise Disturbance                            7\n",
        "Sewage/Septic Back-Up                                  6\n",
        "Watermain Break                                        6\n",
        "Illegal Auto Body Shop                                 6\n",
        "Phone Bank Service Inquiry                             5\n",
        "Bus Stop Issues                                        5\n",
        "Food Alert - Confirmed                                 5\n",
        "Big Buildings Recycling (INTERNAL)                     5\n",
        "Pigeon Infestation                                     5\n",
        "Heat/Fuel Assistance                                   5\n",
        "Private Parking Lot Complaints                         5\n",
        "Animal Noise Disturbances                              5\n",
        "Overcrowding                                           5\n",
        "Park Improvement Requests                              5\n",
        "Power Outage                                           4\n",
        "General Traffic Engineering Request                    4\n",
        "No Utilities Residential - Gas                         3\n",
        "BWSC Pothole                                           3\n",
        "Utility Casting Repair                                 3\n",
        "Unit Pricing Wrong/Missing                             3\n",
        "Fire in Food Establishment                             3\n",
        "Street Light Outages (Internal)                        3\n",
        "Bicycle Issues                                         3\n",
        "Metrolist Survey                                       3\n",
        "OCR Metrolist                                          3\n",
        "Downed Wire                                            3\n",
        "Short Measure - Gas                                    3\n",
        "Senior Shoveling                                       2\n",
        "No-Tow Complaint Confirmation                          2\n",
        "Parks Lighting/Electrical Issues                       2\n",
        "Mechanical                                             2\n",
        "Loud Parties/Music/People                              2\n",
        "Poor Ventilation                                       2\n",
        "Carbon Monoxide                                        2\n",
        "Aircraft Noise Disturbance                             2\n",
        "Cemetery Maintenance Request                           2\n",
        "Upgrade Existing Lighting                              2\n",
        "Walk-In Service Inquiry                                2\n",
        "Unsanitary Conditions - Employees                      2\n",
        "Tree in Park                                           2\n",
        "Municipal Parking Lot Complaints                       2\n",
        "Install New Lighting                                   1\n",
        "Rat Bite                                               1\n",
        "Automotive Noise Disturbance                           1\n",
        "No Price on Gas/Wrong Price                            1\n",
        "No Utilities - Food Establishment - Water              1\n",
        "Planting                                               1\n",
        "CE Collection                                          1\n",
        "Rental Unit Delivery Conditions                        1\n",
        "Mosquitoes (West Nile)                                 1\n",
        "Water in Gas - High Priority                           1\n",
        "Bridge Maintenance                                     1\n",
        "Length: 170, dtype: int64"
       ]
      }
     ],
     "prompt_number": 22
    },
    {
     "cell_type": "markdown",
     "metadata": {},
     "source": [
      "-----"
     ]
    },
    {
     "cell_type": "heading",
     "level": 2,
     "metadata": {},
     "source": [
      "Step 3. Detecting outliers"
     ]
    },
    {
     "cell_type": "markdown",
     "metadata": {},
     "source": [
      "Now that we have a clustering of the records in the dataset, we can detect the outlying ones. These are the ones who are the farthest from the centroids of their clusters. Track them down and describe any interesting observations that you can make. **(pts 20)** "
     ]
    },
    {
     "cell_type": "code",
     "collapsed": false,
     "input": [],
     "language": "python",
     "metadata": {},
     "outputs": []
    },
    {
     "cell_type": "code",
     "collapsed": false,
     "input": [
      "# Code for setting the style of the notebook\n",
      "from IPython.core.display import HTML\n",
      "def css_styling():\n",
      "    styles = open(\"../../theme/custom.css\", \"r\").read()\n",
      "    return HTML(styles)\n",
      "css_styling()"
     ],
     "language": "python",
     "metadata": {},
     "outputs": [
      {
       "html": [
        "<link href='http://fonts.googleapis.com/css?family=EB+Garamond' rel='stylesheet' type='text/css'>\n",
        "<link href='http://fonts.googleapis.com/css?family=Alegreya+Sans:100,300,400,500,700,800,900,100italic,300italic,400italic,500italic,700italic,800italic,900italic' rel='stylesheet' type='text/css'>\n",
        "<link href='http://fonts.googleapis.com/css?family=Source+Code+Pro:300,400' rel='stylesheet' type='text/css'>\n",
        "<style>\n",
        "    @font-face {\n",
        "        font-family: \"Computer Modern\";\n",
        "        src: url('http://mirrors.ctan.org/fonts/cm-unicode/fonts/otf/cmunss.otf');\n",
        "    }\n",
        "    .code_cell {\n",
        "        width: 105ex !important ;\n",
        "        margin-bottom: 15px !important;\n",
        "    }\n",
        "    div.cell {\n",
        "        margin-left: auto;\n",
        "        margin-right: auto;\n",
        "        width: 70%;\n",
        "    }    \n",
        "    div.cell.selected {\n",
        "        border: thin rgba(171, 171, 171, 0.5) dashed;\n",
        "    }\n",
        "    h1 {\n",
        "        font-family: 'Alegreya Sans', sans-serif;\n",
        "    }\n",
        "    h2 {\n",
        "        font-family: 'EB Garamond', serif;\n",
        "    }\n",
        "    h3 {\n",
        "        font-family: 'EB Garamond', serif;\n",
        "        margin-top:12px;\n",
        "        margin-bottom: 3px;\n",
        "    }\n",
        "    h4 {\n",
        "        font-family: 'EB Garamond', serif;\n",
        "    }\n",
        "    h5 {\n",
        "        font-family: 'Alegreya Sans', sans-serif;\n",
        "    }\n",
        "    div.text_cell_render {\n",
        "        font-family: 'EB Garamond',Computer Modern, \"Helvetica Neue\", Arial, Helvetica, Geneva, sans-serif;\n",
        "        line-height: 145%;\n",
        "        font-size: 140%;\n",
        "    }\n",
        "    div.input_area {\n",
        "        border-color: rgba(0,0,0,0.10) !important;\n",
        "        background: #fafafa;\n",
        "    }\n",
        "    .CodeMirror {\n",
        "            font-family: \"Source Code Pro\";\n",
        "            font-size: 90%;\n",
        "    }\n",
        "    .prompt {\n",
        "        display: None;\n",
        "    }\n",
        "    .output {\n",
        "        padding-left: 50px;\n",
        "        padding-top: 5px;\n",
        "    }\n",
        "    .output_wrapper {\n",
        "        padding-left: 5px;\n",
        "        padding-top: inherit;\n",
        "    }\n",
        "    div.output_scroll {\n",
        "        width: inherit;\n",
        "    }\n",
        "    .inner_cell {\n",
        "        padding-left: 5px;\n",
        "    }\n",
        "    .text_cell_render h1 {\n",
        "        font-weight: 200;\n",
        "        font-size: 50pt;\n",
        "        line-height: 100%;\n",
        "        color:#CD2305;\n",
        "        margin-bottom: 0.5em;\n",
        "        margin-top: 0.5em;\n",
        "        display: block;\n",
        "    }\n",
        "    .text_cell_render h5 {\n",
        "        font-weight: 300;\n",
        "        font-size: 16pt;\n",
        "        color: #CD2305;\n",
        "        font-style: italic;\n",
        "        margin-bottom: .5em;\n",
        "        margin-top: 0.5em;\n",
        "        display: block;\n",
        "    }\n",
        "    .warning {\n",
        "        color: rgb( 240, 20, 20 )\n",
        "        }  \n",
        "</style>\n",
        "<script>\n",
        "    MathJax.Hub.Config({\n",
        "                        TeX: {\n",
        "                           extensions: [\"AMSmath.js\"]\n",
        "                           },\n",
        "                tex2jax: {\n",
        "                    inlineMath: [ ['$','$'], [\"\\\\(\",\"\\\\)\"] ],\n",
        "                    displayMath: [ ['$$','$$'], [\"\\\\[\",\"\\\\]\"] ]\n",
        "                },\n",
        "                displayAlign: 'center', // Change this to 'center' to center equations.\n",
        "                \"HTML-CSS\": {\n",
        "                    styles: {'.MathJax_Display': {\"margin\": 4}}\n",
        "                }\n",
        "        });\n",
        "</script>"
       ],
       "metadata": {},
       "output_type": "pyout",
       "prompt_number": 1,
       "text": [
        "<IPython.core.display.HTML at 0x10435d850>"
       ]
      }
     ],
     "prompt_number": 1
    },
    {
     "cell_type": "code",
     "collapsed": false,
     "input": [],
     "language": "python",
     "metadata": {},
     "outputs": []
    }
   ],
   "metadata": {}
  }
 ]
}