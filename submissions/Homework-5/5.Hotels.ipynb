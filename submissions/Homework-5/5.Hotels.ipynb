{
 "metadata": {
  "name": "",
  "signature": "sha256:bb9756a1ee602b527253d577fb19eb4b4f5dd0545d53d0247bfd52ddd1d67df9"
 },
 "nbformat": 3,
 "nbformat_minor": 0,
 "worksheets": [
  {
   "cells": [
    {
     "cell_type": "markdown",
     "metadata": {},
     "source": [
      "(In order to load the stylesheet of this notebook, execute the last code cell in this notebook)"
     ]
    },
    {
     "cell_type": "heading",
     "level": 1,
     "metadata": {},
     "source": [
      "Analyzing hotel ratings on Tripadvisor"
     ]
    },
    {
     "cell_type": "markdown",
     "metadata": {},
     "source": [
      "In this homework we will focus on practicing two techniques: web scraping and regression. For the first part, we will build upon the sample code from the Lecture and attempt to get some basic information for each hotel. Then, we will fit a regression model on this information and try to analyze it.   "
     ]
    },
    {
     "cell_type": "markdown",
     "metadata": {},
     "source": [
      "One of the main disadvantages of scraping a website instead of using an API is that, without any notice, the website may change its layout and render our code useless. Something like that happened in our case. Tripadvisor changed the layout of the buttons that we use to navigate between the different pages of the results. This was the main reason people were having problem with executing the code."
     ]
    },
    {
     "cell_type": "markdown",
     "metadata": {},
     "source": [
      "**Task 1 (20 pts)**\n",
      "\n",
      "The first task of the homework is to fix the scraping code. We basically need to replace the part where we are checking if there is another page and getting its link with new code that reflects the new navigation layout. "
     ]
    },
    {
     "cell_type": "markdown",
     "metadata": {},
     "source": [
      "** Task 2 (30 pts)**\n",
      "\n",
      "Then, for each hotel that our search returns, we will \"click\" (with the code of course) on it and scrape the information below.\n",
      "\n",
      "![Information to be scraped](hotel_info.png)\n",
      "\n",
      "Of course, feel free to collect even more data if you want. "
     ]
    },
    {
     "cell_type": "markdown",
     "metadata": {},
     "source": [
      "** Task 3 (20 pts) **\n",
      "\n",
      "Now, we will use regression to analyze this information. First, we will fit a linear regression model that predicts the average rating. For example, for the hotel above, the average rating is\n",
      "\n",
      "$$ \\text{AVG_SCORE} = \\frac{1*31 + 2*33 + 3*98 + 4*504 + 5*1861}{2527}$$\n",
      "\n",
      "Use the model to analyze the important factors that decide the $\\text{AVG_SCORE}$."
     ]
    },
    {
     "cell_type": "markdown",
     "metadata": {},
     "source": [
      "** Task 4 (30 pts) **\n",
      "\n",
      "Finally, we will use logistic regression to decide if a hotel is _excellent_ or not. We classify a hotel as _excellent_ if more than **60%** of its ratings are 5 stars. This is a binary attribute on which we can fit a logistic regression model. As before, use the model to analyze the data.\n",
      "\n",
      "-------"
     ]
    },
    {
     "cell_type": "markdown",
     "metadata": {},
     "source": [
      "In order to use code from a Python script file, we need to put that file in the same folder as the notebook and import it as a library. Then, we will be able to access it's functions. For example, in the case of the lecture code, we could do the following:\n",
      "\n",
      "``` python\n",
      "import scrape_solution as scrape\n",
      "\n",
      "scrape.get_city_page()\n",
      "```\n",
      "\n",
      "Of course, you might need to modify and restructure the code so that it returns what you need."
     ]
    },
    {
     "cell_type": "markdown",
     "metadata": {},
     "source": [
      "----"
     ]
    },
    {
     "cell_type": "code",
     "collapsed": false,
     "input": [
      "import time\n",
      "\n",
      "import numpy as np\n",
      "import matplotlib.pyplot as plt\n",
      "import pandas as pd\n",
      "\n",
      "import scipy as sp\n",
      "import scipy.sparse.linalg as linalg\n",
      "import scipy.cluster.hierarchy as hr\n",
      "from scipy.spatial.distance import pdist, squareform\n",
      "\n",
      "import sklearn.datasets as datasets\n",
      "import sklearn.metrics as metrics\n",
      "import sklearn.utils as utils\n",
      "import sklearn.linear_model as linear_model\n",
      "import sklearn.cross_validation as cross_validation\n",
      "import sklearn.cluster as cluster\n",
      "from sklearn.neighbors import KNeighborsClassifier\n",
      "from sklearn.decomposition import TruncatedSVD\n",
      "from sklearn.preprocessing import StandardScaler\n",
      "\n",
      "import statsmodels.api as sm\n",
      "\n",
      "from patsy import dmatrices\n",
      "\n",
      "import seaborn as sns\n",
      "%matplotlib inline"
     ],
     "language": "python",
     "metadata": {},
     "outputs": [],
     "prompt_number": 38
    },
    {
     "cell_type": "code",
     "collapsed": false,
     "input": [
      "import scrape\n",
      "hotel_info = scrape.scrape_hotels(\"boston\", \"ma\")"
     ],
     "language": "python",
     "metadata": {},
     "outputs": [
      {
       "output_type": "stream",
       "stream": "stderr",
       "text": [
        "[2015-04-06 19:41:22,748] #################################### Option 2 ######################################\n"
       ]
      },
      {
       "output_type": "stream",
       "stream": "stderr",
       "text": [
        "INFO:scrape:#################################### Option 2 ######################################\n"
       ]
      },
      {
       "output_type": "stream",
       "stream": "stderr",
       "text": [
        "[2015-04-06 19:41:22,862] #################################### Option 3 ######################################\n"
       ]
      },
      {
       "output_type": "stream",
       "stream": "stderr",
       "text": [
        "INFO:scrape:#################################### Option 3 ######################################\n"
       ]
      },
      {
       "output_type": "stream",
       "stream": "stderr",
       "text": [
        "[2015-04-06 19:41:25,401] Parsing Hyatt Boston Harbor\n"
       ]
      },
      {
       "output_type": "stream",
       "stream": "stderr",
       "text": [
        "INFO:scrape:Parsing Hyatt Boston Harbor\n"
       ]
      },
      {
       "output_type": "stream",
       "stream": "stderr",
       "text": [
        "[2015-04-06 19:41:28,639] Parsing Seaport Boston Hotel\n"
       ]
      },
      {
       "output_type": "stream",
       "stream": "stderr",
       "text": [
        "INFO:scrape:Parsing Seaport Boston Hotel\n"
       ]
      },
      {
       "output_type": "stream",
       "stream": "stderr",
       "text": [
        "[2015-04-06 19:41:31,832] Parsing Hotel Commonwealth\n"
       ]
      },
      {
       "output_type": "stream",
       "stream": "stderr",
       "text": [
        "INFO:scrape:Parsing Hotel Commonwealth\n"
       ]
      },
      {
       "output_type": "stream",
       "stream": "stderr",
       "text": [
        "[2015-04-06 19:41:34,971] Parsing Boston Harbor Hotel\n"
       ]
      },
      {
       "output_type": "stream",
       "stream": "stderr",
       "text": [
        "INFO:scrape:Parsing Boston Harbor Hotel\n"
       ]
      },
      {
       "output_type": "stream",
       "stream": "stderr",
       "text": [
        "[2015-04-06 19:41:38,124] Parsing enVision Hotel Boston\n"
       ]
      },
      {
       "output_type": "stream",
       "stream": "stderr",
       "text": [
        "INFO:scrape:Parsing enVision Hotel Boston\n"
       ]
      },
      {
       "output_type": "stream",
       "stream": "stderr",
       "text": [
        "[2015-04-06 19:41:41,794] Parsing Revere Hotel Boston Common\n"
       ]
      },
      {
       "output_type": "stream",
       "stream": "stderr",
       "text": [
        "INFO:scrape:Parsing Revere Hotel Boston Common\n"
       ]
      },
      {
       "output_type": "stream",
       "stream": "stderr",
       "text": [
        "[2015-04-06 19:41:45,033] Parsing Nine Zero Hotel - a Kimpton Hotel\n"
       ]
      },
      {
       "output_type": "stream",
       "stream": "stderr",
       "text": [
        "INFO:scrape:Parsing Nine Zero Hotel - a Kimpton Hotel\n"
       ]
      },
      {
       "output_type": "stream",
       "stream": "stderr",
       "text": [
        "[2015-04-06 19:41:48,555] Parsing Lenox Hotel\n"
       ]
      },
      {
       "output_type": "stream",
       "stream": "stderr",
       "text": [
        "INFO:scrape:Parsing Lenox Hotel\n"
       ]
      },
      {
       "output_type": "stream",
       "stream": "stderr",
       "text": [
        "[2015-04-06 19:41:51,693] Parsing The Westin Copley Place\n"
       ]
      },
      {
       "output_type": "stream",
       "stream": "stderr",
       "text": [
        "INFO:scrape:Parsing The Westin Copley Place\n"
       ]
      },
      {
       "output_type": "stream",
       "stream": "stderr",
       "text": [
        "[2015-04-06 19:41:54,860] Parsing Courtyard by Marriott Boston Copley Square\n"
       ]
      },
      {
       "output_type": "stream",
       "stream": "stderr",
       "text": [
        "INFO:scrape:Parsing Courtyard by Marriott Boston Copley Square\n"
       ]
      },
      {
       "output_type": "stream",
       "stream": "stderr",
       "text": [
        "[2015-04-06 19:41:58,032] Parsing Omni Parker House\n"
       ]
      },
      {
       "output_type": "stream",
       "stream": "stderr",
       "text": [
        "INFO:scrape:Parsing Omni Parker House\n"
       ]
      },
      {
       "output_type": "stream",
       "stream": "stderr",
       "text": [
        "[2015-04-06 19:42:01,142] Parsing Embassy Suites Boston Logan Airport\n"
       ]
      },
      {
       "output_type": "stream",
       "stream": "stderr",
       "text": [
        "INFO:scrape:Parsing Embassy Suites Boston Logan Airport\n"
       ]
      },
      {
       "output_type": "stream",
       "stream": "stderr",
       "text": [
        "[2015-04-06 19:42:04,497] Parsing XV Beacon\n"
       ]
      },
      {
       "output_type": "stream",
       "stream": "stderr",
       "text": [
        "INFO:scrape:Parsing XV Beacon\n"
       ]
      },
      {
       "output_type": "stream",
       "stream": "stderr",
       "text": [
        "[2015-04-06 19:42:07,525] Parsing The Midtown Hotel\n"
       ]
      },
      {
       "output_type": "stream",
       "stream": "stderr",
       "text": [
        "INFO:scrape:Parsing The Midtown Hotel\n"
       ]
      },
      {
       "output_type": "stream",
       "stream": "stderr",
       "text": [
        "[2015-04-06 19:42:10,625] Parsing The Verb Hotel\n"
       ]
      },
      {
       "output_type": "stream",
       "stream": "stderr",
       "text": [
        "INFO:scrape:Parsing The Verb Hotel\n"
       ]
      },
      {
       "output_type": "stream",
       "stream": "stderr",
       "text": [
        "[2015-04-06 19:42:13,700] Parsing The Liberty Hotel\n"
       ]
      },
      {
       "output_type": "stream",
       "stream": "stderr",
       "text": [
        "INFO:scrape:Parsing The Liberty Hotel\n"
       ]
      },
      {
       "output_type": "stream",
       "stream": "stderr",
       "text": [
        "[2015-04-06 19:42:16,858] Parsing Copley Square Hotel\n"
       ]
      },
      {
       "output_type": "stream",
       "stream": "stderr",
       "text": [
        "INFO:scrape:Parsing Copley Square Hotel\n"
       ]
      },
      {
       "output_type": "stream",
       "stream": "stderr",
       "text": [
        "[2015-04-06 19:42:19,979] Parsing Taj Boston\n"
       ]
      },
      {
       "output_type": "stream",
       "stream": "stderr",
       "text": [
        "INFO:scrape:Parsing Taj Boston\n"
       ]
      },
      {
       "output_type": "stream",
       "stream": "stderr",
       "text": [
        "[2015-04-06 19:42:23,070] Parsing Harborside Inn\n"
       ]
      },
      {
       "output_type": "stream",
       "stream": "stderr",
       "text": [
        "INFO:scrape:Parsing Harborside Inn\n"
       ]
      },
      {
       "output_type": "stream",
       "stream": "stderr",
       "text": [
        "[2015-04-06 19:42:26,163] Parsing The Fairmont Copley Plaza, Boston\n"
       ]
      },
      {
       "output_type": "stream",
       "stream": "stderr",
       "text": [
        "INFO:scrape:Parsing The Fairmont Copley Plaza, Boston\n"
       ]
      },
      {
       "output_type": "stream",
       "stream": "stderr",
       "text": [
        "[2015-04-06 19:42:29,260] Parsing Hilton Boston Back Bay\n"
       ]
      },
      {
       "output_type": "stream",
       "stream": "stderr",
       "text": [
        "INFO:scrape:Parsing Hilton Boston Back Bay\n"
       ]
      },
      {
       "output_type": "stream",
       "stream": "stderr",
       "text": [
        "[2015-04-06 19:42:32,355] Parsing Millennium Bostonian Hotel\n"
       ]
      },
      {
       "output_type": "stream",
       "stream": "stderr",
       "text": [
        "INFO:scrape:Parsing Millennium Bostonian Hotel\n"
       ]
      },
      {
       "output_type": "stream",
       "stream": "stderr",
       "text": [
        "[2015-04-06 19:42:35,868] Parsing The Langham, Boston\n"
       ]
      },
      {
       "output_type": "stream",
       "stream": "stderr",
       "text": [
        "INFO:scrape:Parsing The Langham, Boston\n"
       ]
      },
      {
       "output_type": "stream",
       "stream": "stderr",
       "text": [
        "[2015-04-06 19:42:39,223] Parsing InterContinental Boston\n"
       ]
      },
      {
       "output_type": "stream",
       "stream": "stderr",
       "text": [
        "INFO:scrape:Parsing InterContinental Boston\n"
       ]
      },
      {
       "output_type": "stream",
       "stream": "stderr",
       "text": [
        "[2015-04-06 19:42:42,342] Parsing Boston Hotel Buckminster\n"
       ]
      },
      {
       "output_type": "stream",
       "stream": "stderr",
       "text": [
        "INFO:scrape:Parsing Boston Hotel Buckminster\n"
       ]
      },
      {
       "output_type": "stream",
       "stream": "stderr",
       "text": [
        "[2015-04-06 19:42:45,402] Parsing Marriott's Custom House\n"
       ]
      },
      {
       "output_type": "stream",
       "stream": "stderr",
       "text": [
        "INFO:scrape:Parsing Marriott's Custom House\n"
       ]
      },
      {
       "output_type": "stream",
       "stream": "stderr",
       "text": [
        "[2015-04-06 19:42:48,546] Parsing Sheraton Boston Hotel\n"
       ]
      },
      {
       "output_type": "stream",
       "stream": "stderr",
       "text": [
        "INFO:scrape:Parsing Sheraton Boston Hotel\n"
       ]
      },
      {
       "output_type": "stream",
       "stream": "stderr",
       "text": [
        "[2015-04-06 19:42:51,837] Parsing Residence Inn Boston Back Bay / Fenway\n"
       ]
      },
      {
       "output_type": "stream",
       "stream": "stderr",
       "text": [
        "INFO:scrape:Parsing Residence Inn Boston Back Bay / Fenway\n"
       ]
      },
      {
       "output_type": "stream",
       "stream": "stderr",
       "text": [
        "[2015-04-06 19:42:54,916] Parsing Boston Marriott Copley Place\n"
       ]
      },
      {
       "output_type": "stream",
       "stream": "stderr",
       "text": [
        "INFO:scrape:Parsing Boston Marriott Copley Place\n"
       ]
      },
      {
       "output_type": "stream",
       "stream": "stderr",
       "text": [
        "[2015-04-06 19:42:58,131] Parsing Loews Boston Hotel\n"
       ]
      },
      {
       "output_type": "stream",
       "stream": "stderr",
       "text": [
        "INFO:scrape:Parsing Loews Boston Hotel\n"
       ]
      },
      {
       "output_type": "stream",
       "stream": "stderr",
       "text": [
        "[2015-04-06 19:42:58,927] Next url is /Hotels-g60745-oa30-Boston_Massachusetts-Hotels.html#ACCOM_OVERVIEW\n"
       ]
      },
      {
       "output_type": "stream",
       "stream": "stderr",
       "text": [
        "INFO:scrape:Next url is /Hotels-g60745-oa30-Boston_Massachusetts-Hotels.html#ACCOM_OVERVIEW\n"
       ]
      },
      {
       "output_type": "stream",
       "stream": "stderr",
       "text": [
        "[2015-04-06 19:43:03,513] #################################### Option 2 ######################################\n"
       ]
      },
      {
       "output_type": "stream",
       "stream": "stderr",
       "text": [
        "INFO:scrape:#################################### Option 2 ######################################\n"
       ]
      },
      {
       "output_type": "stream",
       "stream": "stderr",
       "text": [
        "[2015-04-06 19:43:03,630] #################################### Option 3 ######################################\n"
       ]
      },
      {
       "output_type": "stream",
       "stream": "stderr",
       "text": [
        "INFO:scrape:#################################### Option 3 ######################################\n"
       ]
      },
      {
       "output_type": "stream",
       "stream": "stderr",
       "text": [
        "[2015-04-06 19:43:06,178] Parsing Battery Wharf Hotel, Boston Waterfront\n"
       ]
      },
      {
       "output_type": "stream",
       "stream": "stderr",
       "text": [
        "INFO:scrape:Parsing Battery Wharf Hotel, Boston Waterfront\n"
       ]
      },
      {
       "output_type": "stream",
       "stream": "stderr",
       "text": [
        "[2015-04-06 19:43:09,323] Parsing Hotel 140\n"
       ]
      },
      {
       "output_type": "stream",
       "stream": "stderr",
       "text": [
        "INFO:scrape:Parsing Hotel 140\n"
       ]
      },
      {
       "output_type": "stream",
       "stream": "stderr",
       "text": [
        "[2015-04-06 19:43:12,457] Parsing Residence Inn by Marriott Boston Harbor on Tudor Wharf\n"
       ]
      },
      {
       "output_type": "stream",
       "stream": "stderr",
       "text": [
        "INFO:scrape:Parsing Residence Inn by Marriott Boston Harbor on Tudor Wharf\n"
       ]
      },
      {
       "output_type": "stream",
       "stream": "stderr",
       "text": [
        "[2015-04-06 19:43:15,578] Parsing Chandler Inn\n"
       ]
      },
      {
       "output_type": "stream",
       "stream": "stderr",
       "text": [
        "INFO:scrape:Parsing Chandler Inn\n"
       ]
      },
      {
       "output_type": "stream",
       "stream": "stderr",
       "text": [
        "[2015-04-06 19:43:18,664] Parsing DoubleTree by Hilton Hotel Boston - Downtown\n"
       ]
      },
      {
       "output_type": "stream",
       "stream": "stderr",
       "text": [
        "INFO:scrape:Parsing DoubleTree by Hilton Hotel Boston - Downtown\n"
       ]
      },
      {
       "output_type": "stream",
       "stream": "stderr",
       "text": [
        "[2015-04-06 19:43:21,804] Parsing Boston Marriott Copley Place\n"
       ]
      },
      {
       "output_type": "stream",
       "stream": "stderr",
       "text": [
        "INFO:scrape:Parsing Boston Marriott Copley Place\n"
       ]
      },
      {
       "output_type": "stream",
       "stream": "stderr",
       "text": [
        "[2015-04-06 19:43:24,900] Parsing Four Seasons Hotel Boston\n"
       ]
      },
      {
       "output_type": "stream",
       "stream": "stderr",
       "text": [
        "INFO:scrape:Parsing Four Seasons Hotel Boston\n"
       ]
      },
      {
       "output_type": "stream",
       "stream": "stderr",
       "text": [
        "[2015-04-06 19:43:28,162] Parsing Boston Marriott Long Wharf\n"
       ]
      },
      {
       "output_type": "stream",
       "stream": "stderr",
       "text": [
        "INFO:scrape:Parsing Boston Marriott Long Wharf\n"
       ]
      },
      {
       "output_type": "stream",
       "stream": "stderr",
       "text": [
        "[2015-04-06 19:43:31,242] Parsing Club Quarters in Boston\n"
       ]
      },
      {
       "output_type": "stream",
       "stream": "stderr",
       "text": [
        "INFO:scrape:Parsing Club Quarters in Boston\n"
       ]
      },
      {
       "output_type": "stream",
       "stream": "stderr",
       "text": [
        "[2015-04-06 19:43:34,332] Parsing XV Beacon\n"
       ]
      },
      {
       "output_type": "stream",
       "stream": "stderr",
       "text": [
        "INFO:scrape:Parsing XV Beacon\n"
       ]
      },
      {
       "output_type": "stream",
       "stream": "stderr",
       "text": [
        "[2015-04-06 19:43:37,455] Parsing Hyatt Regency Boston\n"
       ]
      },
      {
       "output_type": "stream",
       "stream": "stderr",
       "text": [
        "INFO:scrape:Parsing Hyatt Regency Boston\n"
       ]
      },
      {
       "output_type": "stream",
       "stream": "stderr",
       "text": [
        "[2015-04-06 19:43:40,610] Parsing Hilton Boston Downtown / Faneuil Hall\n"
       ]
      },
      {
       "output_type": "stream",
       "stream": "stderr",
       "text": [
        "INFO:scrape:Parsing Hilton Boston Downtown / Faneuil Hall\n"
       ]
      },
      {
       "output_type": "stream",
       "stream": "stderr",
       "text": [
        "[2015-04-06 19:43:43,741] Parsing Hampton Inn & Suites Boston Crosstown Center\n"
       ]
      },
      {
       "output_type": "stream",
       "stream": "stderr",
       "text": [
        "INFO:scrape:Parsing Hampton Inn & Suites Boston Crosstown Center\n"
       ]
      },
      {
       "output_type": "stream",
       "stream": "stderr",
       "text": [
        "[2015-04-06 19:43:46,926] Parsing Onyx Hotel - a Kimpton Hotel\n"
       ]
      },
      {
       "output_type": "stream",
       "stream": "stderr",
       "text": [
        "INFO:scrape:Parsing Onyx Hotel - a Kimpton Hotel\n"
       ]
      },
      {
       "output_type": "stream",
       "stream": "stderr",
       "text": [
        "[2015-04-06 19:43:50,608] Parsing Residence Inn Boston Downtown Seaport\n"
       ]
      },
      {
       "output_type": "stream",
       "stream": "stderr",
       "text": [
        "INFO:scrape:Parsing Residence Inn Boston Downtown Seaport\n"
       ]
      },
      {
       "output_type": "stream",
       "stream": "stderr",
       "text": [
        "[2015-04-06 19:43:53,736] Parsing Ramada Boston\n"
       ]
      },
      {
       "output_type": "stream",
       "stream": "stderr",
       "text": [
        "INFO:scrape:Parsing Ramada Boston\n"
       ]
      },
      {
       "output_type": "stream",
       "stream": "stderr",
       "text": [
        "[2015-04-06 19:43:56,816] Parsing BEST WESTERN University Hotel Boston-Brighton\n"
       ]
      },
      {
       "output_type": "stream",
       "stream": "stderr",
       "text": [
        "INFO:scrape:Parsing BEST WESTERN University Hotel Boston-Brighton\n"
       ]
      },
      {
       "output_type": "stream",
       "stream": "stderr",
       "text": [
        "[2015-04-06 19:43:59,891] Parsing Colonnade Hotel\n"
       ]
      },
      {
       "output_type": "stream",
       "stream": "stderr",
       "text": [
        "INFO:scrape:Parsing Colonnade Hotel\n"
       ]
      },
      {
       "output_type": "stream",
       "stream": "stderr",
       "text": [
        "[2015-04-06 19:44:03,014] Parsing DoubleTree Suites by Hilton Boston-Cambridge\n"
       ]
      },
      {
       "output_type": "stream",
       "stream": "stderr",
       "text": [
        "INFO:scrape:Parsing DoubleTree Suites by Hilton Boston-Cambridge\n"
       ]
      },
      {
       "output_type": "stream",
       "stream": "stderr",
       "text": [
        "[2015-04-06 19:44:06,184] Parsing The Westin Boston Waterfront\n"
       ]
      },
      {
       "output_type": "stream",
       "stream": "stderr",
       "text": [
        "INFO:scrape:Parsing The Westin Boston Waterfront\n"
       ]
      },
      {
       "output_type": "stream",
       "stream": "stderr",
       "text": [
        "[2015-04-06 19:44:09,400] Parsing Copley House\n"
       ]
      },
      {
       "output_type": "stream",
       "stream": "stderr",
       "text": [
        "INFO:scrape:Parsing Copley House\n"
       ]
      },
      {
       "output_type": "stream",
       "stream": "stderr",
       "text": [
        "[2015-04-06 19:44:12,629] Parsing The Boston Common Hotel and Conference Center\n"
       ]
      },
      {
       "output_type": "stream",
       "stream": "stderr",
       "text": [
        "INFO:scrape:Parsing The Boston Common Hotel and Conference Center\n"
       ]
      },
      {
       "output_type": "stream",
       "stream": "stderr",
       "text": [
        "[2015-04-06 19:44:15,892] Parsing Eliot Hotel\n"
       ]
      },
      {
       "output_type": "stream",
       "stream": "stderr",
       "text": [
        "INFO:scrape:Parsing Eliot Hotel\n"
       ]
      },
      {
       "output_type": "stream",
       "stream": "stderr",
       "text": [
        "[2015-04-06 19:44:19,088] Parsing DoubleTree Club by Hilton Hotel Boston Bayside\n"
       ]
      },
      {
       "output_type": "stream",
       "stream": "stderr",
       "text": [
        "INFO:scrape:Parsing DoubleTree Club by Hilton Hotel Boston Bayside\n"
       ]
      },
      {
       "output_type": "stream",
       "stream": "stderr",
       "text": [
        "[2015-04-06 19:44:22,170] Parsing Boston Hotel Buckminster\n"
       ]
      },
      {
       "output_type": "stream",
       "stream": "stderr",
       "text": [
        "INFO:scrape:Parsing Boston Hotel Buckminster\n"
       ]
      },
      {
       "output_type": "stream",
       "stream": "stderr",
       "text": [
        "[2015-04-06 19:44:25,354] Parsing Ames Boston Hotel\n"
       ]
      },
      {
       "output_type": "stream",
       "stream": "stderr",
       "text": [
        "INFO:scrape:Parsing Ames Boston Hotel\n"
       ]
      },
      {
       "output_type": "stream",
       "stream": "stderr",
       "text": [
        "[2015-04-06 19:44:28,449] Parsing Charlesmark Hotel\n"
       ]
      },
      {
       "output_type": "stream",
       "stream": "stderr",
       "text": [
        "INFO:scrape:Parsing Charlesmark Hotel\n"
       ]
      },
      {
       "output_type": "stream",
       "stream": "stderr",
       "text": [
        "[2015-04-06 19:44:31,596] Parsing Newbury Guest House\n"
       ]
      },
      {
       "output_type": "stream",
       "stream": "stderr",
       "text": [
        "INFO:scrape:Parsing Newbury Guest House\n"
       ]
      },
      {
       "output_type": "stream",
       "stream": "stderr",
       "text": [
        "[2015-04-06 19:44:34,712] Parsing Mandarin Oriental, Boston\n"
       ]
      },
      {
       "output_type": "stream",
       "stream": "stderr",
       "text": [
        "INFO:scrape:Parsing Mandarin Oriental, Boston\n"
       ]
      },
      {
       "output_type": "stream",
       "stream": "stderr",
       "text": [
        "[2015-04-06 19:44:37,855] Parsing Hilton Boston Logan Airport\n"
       ]
      },
      {
       "output_type": "stream",
       "stream": "stderr",
       "text": [
        "INFO:scrape:Parsing Hilton Boston Logan Airport\n"
       ]
      },
      {
       "output_type": "stream",
       "stream": "stderr",
       "text": [
        "[2015-04-06 19:44:38,635] Next url is /Hotels-g60745-oa60-Boston_Massachusetts-Hotels.html#ACCOM_OVERVIEW\n"
       ]
      },
      {
       "output_type": "stream",
       "stream": "stderr",
       "text": [
        "INFO:scrape:Next url is /Hotels-g60745-oa60-Boston_Massachusetts-Hotels.html#ACCOM_OVERVIEW\n"
       ]
      },
      {
       "output_type": "stream",
       "stream": "stderr",
       "text": [
        "[2015-04-06 19:44:42,841] #################################### Option 2 ######################################\n"
       ]
      },
      {
       "output_type": "stream",
       "stream": "stderr",
       "text": [
        "INFO:scrape:#################################### Option 2 ######################################\n"
       ]
      },
      {
       "output_type": "stream",
       "stream": "stderr",
       "text": [
        "[2015-04-06 19:44:42,946] #################################### Option 3 ######################################\n"
       ]
      },
      {
       "output_type": "stream",
       "stream": "stderr",
       "text": [
        "INFO:scrape:#################################### Option 3 ######################################\n"
       ]
      },
      {
       "output_type": "stream",
       "stream": "stderr",
       "text": [
        "[2015-04-06 19:44:45,429] Parsing Holiday Inn Express Hotel & Suites Boston Garden\n"
       ]
      },
      {
       "output_type": "stream",
       "stream": "stderr",
       "text": [
        "INFO:scrape:Parsing Holiday Inn Express Hotel & Suites Boston Garden\n"
       ]
      },
      {
       "output_type": "stream",
       "stream": "stderr",
       "text": [
        "[2015-04-06 19:44:48,524] Parsing Ames Boston Hotel\n"
       ]
      },
      {
       "output_type": "stream",
       "stream": "stderr",
       "text": [
        "INFO:scrape:Parsing Ames Boston Hotel\n"
       ]
      },
      {
       "output_type": "stream",
       "stream": "stderr",
       "text": [
        "[2015-04-06 19:44:51,706] Parsing The Ritz-Carlton Boston Common\n"
       ]
      },
      {
       "output_type": "stream",
       "stream": "stderr",
       "text": [
        "INFO:scrape:Parsing The Ritz-Carlton Boston Common\n"
       ]
      },
      {
       "output_type": "stream",
       "stream": "stderr",
       "text": [
        "[2015-04-06 19:44:54,803] Parsing Courtyard by Marriott Boston Logan Airport\n"
       ]
      },
      {
       "output_type": "stream",
       "stream": "stderr",
       "text": [
        "INFO:scrape:Parsing Courtyard by Marriott Boston Logan Airport\n"
       ]
      },
      {
       "output_type": "stream",
       "stream": "stderr",
       "text": [
        "[2015-04-06 19:44:57,893] Parsing The Inn At St Botolph\n"
       ]
      },
      {
       "output_type": "stream",
       "stream": "stderr",
       "text": [
        "INFO:scrape:Parsing The Inn At St Botolph\n"
       ]
      },
      {
       "output_type": "stream",
       "stream": "stderr",
       "text": [
        "[2015-04-06 19:45:00,947] Parsing Residence Inn Boston Downtown Seaport\n"
       ]
      },
      {
       "output_type": "stream",
       "stream": "stderr",
       "text": [
        "INFO:scrape:Parsing Residence Inn Boston Downtown Seaport\n"
       ]
      },
      {
       "output_type": "stream",
       "stream": "stderr",
       "text": [
        "[2015-04-06 19:45:04,102] Parsing Courtyard Boston-South Boston\n"
       ]
      },
      {
       "output_type": "stream",
       "stream": "stderr",
       "text": [
        "INFO:scrape:Parsing Courtyard Boston-South Boston\n"
       ]
      },
      {
       "output_type": "stream",
       "stream": "stderr",
       "text": [
        "[2015-04-06 19:45:07,102] Parsing Beacon Hill Hotel and Bistro\n"
       ]
      },
      {
       "output_type": "stream",
       "stream": "stderr",
       "text": [
        "INFO:scrape:Parsing Beacon Hill Hotel and Bistro\n"
       ]
      },
      {
       "output_type": "stream",
       "stream": "stderr",
       "text": [
        "[2015-04-06 19:45:10,201] Parsing Comfort Inn - Boston\n"
       ]
      },
      {
       "output_type": "stream",
       "stream": "stderr",
       "text": [
        "INFO:scrape:Parsing Comfort Inn - Boston\n"
       ]
      },
      {
       "output_type": "stream",
       "stream": "stderr",
       "text": [
        "[2015-04-06 19:45:13,342] Parsing The Boston Common Hotel and Conference Center\n"
       ]
      },
      {
       "output_type": "stream",
       "stream": "stderr",
       "text": [
        "INFO:scrape:Parsing The Boston Common Hotel and Conference Center\n"
       ]
      },
      {
       "output_type": "stream",
       "stream": "stderr",
       "text": [
        "[2015-04-06 19:45:16,580] Parsing Courtyard Boston Downtown\n"
       ]
      },
      {
       "output_type": "stream",
       "stream": "stderr",
       "text": [
        "INFO:scrape:Parsing Courtyard Boston Downtown\n"
       ]
      },
      {
       "output_type": "stream",
       "stream": "stderr",
       "text": [
        "[2015-04-06 19:45:19,688] Parsing Boston Park Plaza\n"
       ]
      },
      {
       "output_type": "stream",
       "stream": "stderr",
       "text": [
        "INFO:scrape:Parsing Boston Park Plaza\n"
       ]
      },
      {
       "output_type": "stream",
       "stream": "stderr",
       "text": [
        "[2015-04-06 19:45:22,782] Parsing Ramada Boston\n"
       ]
      },
      {
       "output_type": "stream",
       "stream": "stderr",
       "text": [
        "INFO:scrape:Parsing Ramada Boston\n"
       ]
      },
      {
       "output_type": "stream",
       "stream": "stderr",
       "text": [
        "[2015-04-06 19:45:26,059] Parsing Milner Hotel\n"
       ]
      },
      {
       "output_type": "stream",
       "stream": "stderr",
       "text": [
        "INFO:scrape:Parsing Milner Hotel\n"
       ]
      },
      {
       "output_type": "stream",
       "stream": "stderr",
       "text": [
        "[2015-04-06 19:45:29,307] Parsing Constitution Inn\n"
       ]
      },
      {
       "output_type": "stream",
       "stream": "stderr",
       "text": [
        "INFO:scrape:Parsing Constitution Inn\n"
       ]
      },
      {
       "output_type": "stream",
       "stream": "stderr",
       "text": [
        "[2015-04-06 19:45:32,400] Parsing Days Hotel Boston\n"
       ]
      },
      {
       "output_type": "stream",
       "stream": "stderr",
       "text": [
        "INFO:scrape:Parsing Days Hotel Boston\n"
       ]
      },
      {
       "output_type": "stream",
       "stream": "stderr",
       "text": [
        "[2015-04-06 19:45:35,496] Parsing Americas Best Value Inn\n"
       ]
      },
      {
       "output_type": "stream",
       "stream": "stderr",
       "text": [
        "INFO:scrape:Parsing Americas Best Value Inn\n"
       ]
      },
      {
       "output_type": "stream",
       "stream": "stderr",
       "text": [
        "[2015-04-06 19:45:36,182] We reached last page\n"
       ]
      },
      {
       "output_type": "stream",
       "stream": "stderr",
       "text": [
        "INFO:scrape:We reached last page\n"
       ]
      }
     ],
     "prompt_number": 1
    },
    {
     "cell_type": "code",
     "collapsed": false,
     "input": [
      "# Import from dictionary\n",
      "df = pd.DataFrame(hotel_info)\n",
      "df = df.swapaxes(1, 0)\n",
      "\n",
      "# Convert to floats\n",
      "df = df.convert_objects(convert_numeric=True)\n",
      "\n",
      "# Rearrange Rows Randomly\n",
      "df[\"rand\"] = [np.random.rand() for i in range(len(df))]\n",
      "df = df.sort(\"rand\")\n",
      "df = df.drop(\"rand\", 1)\n",
      "df"
     ],
     "language": "python",
     "metadata": {},
     "outputs": [
      {
       "html": [
        "<div style=\"max-height:1000px;max-width:1500px;overflow:auto;\">\n",
        "<table border=\"1\" class=\"dataframe\">\n",
        "  <thead>\n",
        "    <tr style=\"text-align: right;\">\n",
        "      <th></th>\n",
        "      <th>Average</th>\n",
        "      <th>Business</th>\n",
        "      <th>Cleanliness</th>\n",
        "      <th>Couples</th>\n",
        "      <th>Excellent</th>\n",
        "      <th>Familes</th>\n",
        "      <th>Location</th>\n",
        "      <th>Poor</th>\n",
        "      <th>Rooms</th>\n",
        "      <th>Service</th>\n",
        "      <th>Sleep_Quality</th>\n",
        "      <th>Solo</th>\n",
        "      <th>Terrible</th>\n",
        "      <th>Value</th>\n",
        "      <th>Very_good</th>\n",
        "      <th>avg_score</th>\n",
        "      <th>is_excellent</th>\n",
        "    </tr>\n",
        "  </thead>\n",
        "  <tbody>\n",
        "    <tr>\n",
        "      <th>XV Beacon</th>\n",
        "      <td>   30</td>\n",
        "      <td>  115</td>\n",
        "      <td> 5.0</td>\n",
        "      <td>  406</td>\n",
        "      <td>  598</td>\n",
        "      <td> 112</td>\n",
        "      <td> 5.0</td>\n",
        "      <td>  22</td>\n",
        "      <td> 4.5</td>\n",
        "      <td> 4.5</td>\n",
        "      <td> 4.5</td>\n",
        "      <td>  40</td>\n",
        "      <td>   9</td>\n",
        "      <td> 4.0</td>\n",
        "      <td>  139</td>\n",
        "      <td> 4.622807</td>\n",
        "      <td>  True</td>\n",
        "    </tr>\n",
        "    <tr>\n",
        "      <th>Courtyard Boston Downtown</th>\n",
        "      <td>  266</td>\n",
        "      <td>  224</td>\n",
        "      <td> 3.5</td>\n",
        "      <td>  234</td>\n",
        "      <td>   76</td>\n",
        "      <td> 114</td>\n",
        "      <td> 4.0</td>\n",
        "      <td> 152</td>\n",
        "      <td> 3.0</td>\n",
        "      <td> 3.5</td>\n",
        "      <td> 3.0</td>\n",
        "      <td>  72</td>\n",
        "      <td>  81</td>\n",
        "      <td> 3.0</td>\n",
        "      <td>  233</td>\n",
        "      <td> 3.087871</td>\n",
        "      <td> False</td>\n",
        "    </tr>\n",
        "    <tr>\n",
        "      <th>The Ritz-Carlton Boston Common</th>\n",
        "      <td>   51</td>\n",
        "      <td>  143</td>\n",
        "      <td> 4.5</td>\n",
        "      <td>  120</td>\n",
        "      <td>  299</td>\n",
        "      <td> 124</td>\n",
        "      <td> 4.5</td>\n",
        "      <td>  39</td>\n",
        "      <td> 4.5</td>\n",
        "      <td> 4.5</td>\n",
        "      <td> 4.5</td>\n",
        "      <td>  19</td>\n",
        "      <td>  13</td>\n",
        "      <td> 4.0</td>\n",
        "      <td>  111</td>\n",
        "      <td> 4.255361</td>\n",
        "      <td> False</td>\n",
        "    </tr>\n",
        "    <tr>\n",
        "      <th>Harborside Inn</th>\n",
        "      <td>   98</td>\n",
        "      <td>  113</td>\n",
        "      <td> 4.5</td>\n",
        "      <td>  545</td>\n",
        "      <td>  388</td>\n",
        "      <td>  87</td>\n",
        "      <td> 5.0</td>\n",
        "      <td>  47</td>\n",
        "      <td> 4.0</td>\n",
        "      <td> 4.0</td>\n",
        "      <td> 4.0</td>\n",
        "      <td>  74</td>\n",
        "      <td>  41</td>\n",
        "      <td> 4.0</td>\n",
        "      <td>  460</td>\n",
        "      <td> 4.070600</td>\n",
        "      <td> False</td>\n",
        "    </tr>\n",
        "    <tr>\n",
        "      <th>Onyx Hotel - a Kimpton Hotel</th>\n",
        "      <td>  109</td>\n",
        "      <td>  148</td>\n",
        "      <td> 4.5</td>\n",
        "      <td>  373</td>\n",
        "      <td>  478</td>\n",
        "      <td> 174</td>\n",
        "      <td> 4.5</td>\n",
        "      <td>  48</td>\n",
        "      <td> 4.0</td>\n",
        "      <td> 4.5</td>\n",
        "      <td> 4.5</td>\n",
        "      <td>  55</td>\n",
        "      <td>  22</td>\n",
        "      <td> 4.0</td>\n",
        "      <td>  326</td>\n",
        "      <td> 4.210580</td>\n",
        "      <td> False</td>\n",
        "    </tr>\n",
        "    <tr>\n",
        "      <th>Boston Hotel Buckminster</th>\n",
        "      <td>  149</td>\n",
        "      <td>  106</td>\n",
        "      <td> 4.0</td>\n",
        "      <td>  276</td>\n",
        "      <td>  169</td>\n",
        "      <td> 178</td>\n",
        "      <td> 4.5</td>\n",
        "      <td>  67</td>\n",
        "      <td> 3.5</td>\n",
        "      <td> 4.0</td>\n",
        "      <td> 4.0</td>\n",
        "      <td>  63</td>\n",
        "      <td>  70</td>\n",
        "      <td> 4.0</td>\n",
        "      <td>  373</td>\n",
        "      <td> 3.608696</td>\n",
        "      <td> False</td>\n",
        "    </tr>\n",
        "    <tr>\n",
        "      <th>Sheraton Boston Hotel</th>\n",
        "      <td>   74</td>\n",
        "      <td>  203</td>\n",
        "      <td> 4.5</td>\n",
        "      <td>  127</td>\n",
        "      <td>  197</td>\n",
        "      <td> 107</td>\n",
        "      <td> 4.5</td>\n",
        "      <td>  19</td>\n",
        "      <td> 4.0</td>\n",
        "      <td> 4.0</td>\n",
        "      <td> 4.5</td>\n",
        "      <td>  17</td>\n",
        "      <td>  19</td>\n",
        "      <td> 4.0</td>\n",
        "      <td>  224</td>\n",
        "      <td> 4.052533</td>\n",
        "      <td> False</td>\n",
        "    </tr>\n",
        "    <tr>\n",
        "      <th>DoubleTree Suites by Hilton Boston-Cambridge</th>\n",
        "      <td>  138</td>\n",
        "      <td>  293</td>\n",
        "      <td> 4.5</td>\n",
        "      <td>  191</td>\n",
        "      <td>  390</td>\n",
        "      <td> 364</td>\n",
        "      <td> 4.0</td>\n",
        "      <td>  58</td>\n",
        "      <td> 4.0</td>\n",
        "      <td> 4.0</td>\n",
        "      <td> 4.0</td>\n",
        "      <td>  68</td>\n",
        "      <td>  35</td>\n",
        "      <td> 4.0</td>\n",
        "      <td>  443</td>\n",
        "      <td> 4.029135</td>\n",
        "      <td> False</td>\n",
        "    </tr>\n",
        "    <tr>\n",
        "      <th>The Liberty Hotel</th>\n",
        "      <td>   77</td>\n",
        "      <td>  173</td>\n",
        "      <td> 4.5</td>\n",
        "      <td>  264</td>\n",
        "      <td>  396</td>\n",
        "      <td> 126</td>\n",
        "      <td> 4.5</td>\n",
        "      <td>  28</td>\n",
        "      <td> 4.0</td>\n",
        "      <td> 4.5</td>\n",
        "      <td> 4.0</td>\n",
        "      <td>  28</td>\n",
        "      <td>  32</td>\n",
        "      <td> 3.5</td>\n",
        "      <td>  211</td>\n",
        "      <td> 4.224462</td>\n",
        "      <td> False</td>\n",
        "    </tr>\n",
        "    <tr>\n",
        "      <th>Courtyard by Marriott Boston Copley Square</th>\n",
        "      <td>   43</td>\n",
        "      <td>  300</td>\n",
        "      <td> 4.5</td>\n",
        "      <td>  222</td>\n",
        "      <td>  628</td>\n",
        "      <td> 230</td>\n",
        "      <td> 5.0</td>\n",
        "      <td>   8</td>\n",
        "      <td> 4.5</td>\n",
        "      <td> 4.5</td>\n",
        "      <td> 4.5</td>\n",
        "      <td>  70</td>\n",
        "      <td>  11</td>\n",
        "      <td> 4.5</td>\n",
        "      <td>  276</td>\n",
        "      <td> 4.554865</td>\n",
        "      <td>  True</td>\n",
        "    </tr>\n",
        "    <tr>\n",
        "      <th>Days Hotel Boston</th>\n",
        "      <td>   57</td>\n",
        "      <td>   41</td>\n",
        "      <td> 3.0</td>\n",
        "      <td>   31</td>\n",
        "      <td>   19</td>\n",
        "      <td>  58</td>\n",
        "      <td> 3.5</td>\n",
        "      <td>  49</td>\n",
        "      <td> 3.0</td>\n",
        "      <td> 3.0</td>\n",
        "      <td> 3.0</td>\n",
        "      <td>  12</td>\n",
        "      <td>  33</td>\n",
        "      <td> 3.0</td>\n",
        "      <td>   32</td>\n",
        "      <td> 2.763158</td>\n",
        "      <td> False</td>\n",
        "    </tr>\n",
        "    <tr>\n",
        "      <th>Four Seasons Hotel Boston</th>\n",
        "      <td>   47</td>\n",
        "      <td>  317</td>\n",
        "      <td> 5.0</td>\n",
        "      <td>  256</td>\n",
        "      <td>  810</td>\n",
        "      <td> 292</td>\n",
        "      <td> 5.0</td>\n",
        "      <td>  22</td>\n",
        "      <td> 4.5</td>\n",
        "      <td> 5.0</td>\n",
        "      <td> 5.0</td>\n",
        "      <td>  47</td>\n",
        "      <td>  13</td>\n",
        "      <td> 4.0</td>\n",
        "      <td>  140</td>\n",
        "      <td> 4.658915</td>\n",
        "      <td>  True</td>\n",
        "    </tr>\n",
        "    <tr>\n",
        "      <th>Hilton Boston Downtown / Faneuil Hall</th>\n",
        "      <td>  162</td>\n",
        "      <td>  230</td>\n",
        "      <td> 4.5</td>\n",
        "      <td>  252</td>\n",
        "      <td>  301</td>\n",
        "      <td> 206</td>\n",
        "      <td> 4.5</td>\n",
        "      <td>  42</td>\n",
        "      <td> 4.0</td>\n",
        "      <td> 4.0</td>\n",
        "      <td> 4.0</td>\n",
        "      <td>  30</td>\n",
        "      <td>  30</td>\n",
        "      <td> 3.5</td>\n",
        "      <td>  340</td>\n",
        "      <td> 3.960000</td>\n",
        "      <td> False</td>\n",
        "    </tr>\n",
        "    <tr>\n",
        "      <th>DoubleTree Club by Hilton Hotel Boston Bayside</th>\n",
        "      <td>  228</td>\n",
        "      <td>  224</td>\n",
        "      <td> 4.0</td>\n",
        "      <td>  247</td>\n",
        "      <td>  259</td>\n",
        "      <td> 234</td>\n",
        "      <td> 4.0</td>\n",
        "      <td>  76</td>\n",
        "      <td> 4.0</td>\n",
        "      <td> 4.0</td>\n",
        "      <td> 3.5</td>\n",
        "      <td>  76</td>\n",
        "      <td>  37</td>\n",
        "      <td> 3.5</td>\n",
        "      <td>  346</td>\n",
        "      <td> 3.754757</td>\n",
        "      <td> False</td>\n",
        "    </tr>\n",
        "    <tr>\n",
        "      <th>Marriott's Custom House</th>\n",
        "      <td>   11</td>\n",
        "      <td>   45</td>\n",
        "      <td> 4.5</td>\n",
        "      <td>  179</td>\n",
        "      <td>  381</td>\n",
        "      <td> 218</td>\n",
        "      <td> 5.0</td>\n",
        "      <td>  12</td>\n",
        "      <td> 4.5</td>\n",
        "      <td> 4.5</td>\n",
        "      <td> 4.5</td>\n",
        "      <td>  15</td>\n",
        "      <td>  12</td>\n",
        "      <td> 4.0</td>\n",
        "      <td>  146</td>\n",
        "      <td> 4.551601</td>\n",
        "      <td>  True</td>\n",
        "    </tr>\n",
        "    <tr>\n",
        "      <th>Embassy Suites Boston Logan Airport</th>\n",
        "      <td>  217</td>\n",
        "      <td>  302</td>\n",
        "      <td> 4.5</td>\n",
        "      <td>  307</td>\n",
        "      <td>  482</td>\n",
        "      <td> 429</td>\n",
        "      <td> 4.5</td>\n",
        "      <td>  66</td>\n",
        "      <td> 4.0</td>\n",
        "      <td> 4.0</td>\n",
        "      <td> 4.0</td>\n",
        "      <td>  77</td>\n",
        "      <td>  40</td>\n",
        "      <td> 4.0</td>\n",
        "      <td>  517</td>\n",
        "      <td> 4.009834</td>\n",
        "      <td> False</td>\n",
        "    </tr>\n",
        "    <tr>\n",
        "      <th>Nine Zero Hotel - a Kimpton Hotel</th>\n",
        "      <td>  105</td>\n",
        "      <td>  324</td>\n",
        "      <td> 4.5</td>\n",
        "      <td>  830</td>\n",
        "      <td> 1179</td>\n",
        "      <td> 328</td>\n",
        "      <td> 5.0</td>\n",
        "      <td>  30</td>\n",
        "      <td> 4.5</td>\n",
        "      <td> 4.5</td>\n",
        "      <td> 4.5</td>\n",
        "      <td> 119</td>\n",
        "      <td>  19</td>\n",
        "      <td> 4.0</td>\n",
        "      <td>  496</td>\n",
        "      <td> 4.523237</td>\n",
        "      <td>  True</td>\n",
        "    </tr>\n",
        "    <tr>\n",
        "      <th>Holiday Inn Express Hotel &amp; Suites Boston Garden</th>\n",
        "      <td>   64</td>\n",
        "      <td>   45</td>\n",
        "      <td> 4.0</td>\n",
        "      <td>   92</td>\n",
        "      <td>   81</td>\n",
        "      <td>  72</td>\n",
        "      <td> 4.5</td>\n",
        "      <td>  27</td>\n",
        "      <td> 3.5</td>\n",
        "      <td> 4.0</td>\n",
        "      <td> 3.5</td>\n",
        "      <td>  16</td>\n",
        "      <td>  19</td>\n",
        "      <td> 3.5</td>\n",
        "      <td>  115</td>\n",
        "      <td> 3.692810</td>\n",
        "      <td> False</td>\n",
        "    </tr>\n",
        "    <tr>\n",
        "      <th>Ramada Boston</th>\n",
        "      <td>  256</td>\n",
        "      <td>  163</td>\n",
        "      <td> 3.5</td>\n",
        "      <td>  195</td>\n",
        "      <td>  130</td>\n",
        "      <td> 296</td>\n",
        "      <td> 3.5</td>\n",
        "      <td> 172</td>\n",
        "      <td> 3.0</td>\n",
        "      <td> 3.5</td>\n",
        "      <td> 3.5</td>\n",
        "      <td>  83</td>\n",
        "      <td> 127</td>\n",
        "      <td> 3.5</td>\n",
        "      <td>  235</td>\n",
        "      <td> 3.075000</td>\n",
        "      <td> False</td>\n",
        "    </tr>\n",
        "    <tr>\n",
        "      <th>Ames Boston Hotel</th>\n",
        "      <td>   89</td>\n",
        "      <td>  153</td>\n",
        "      <td> 4.5</td>\n",
        "      <td>  431</td>\n",
        "      <td>  473</td>\n",
        "      <td> 103</td>\n",
        "      <td> 5.0</td>\n",
        "      <td>  35</td>\n",
        "      <td> 4.5</td>\n",
        "      <td> 4.5</td>\n",
        "      <td> 4.5</td>\n",
        "      <td>  65</td>\n",
        "      <td>  15</td>\n",
        "      <td> 4.0</td>\n",
        "      <td>  258</td>\n",
        "      <td> 4.309195</td>\n",
        "      <td> False</td>\n",
        "    </tr>\n",
        "    <tr>\n",
        "      <th>DoubleTree by Hilton Hotel Boston - Downtown</th>\n",
        "      <td>   61</td>\n",
        "      <td>  145</td>\n",
        "      <td> 4.5</td>\n",
        "      <td>  110</td>\n",
        "      <td>  204</td>\n",
        "      <td> 114</td>\n",
        "      <td> 4.5</td>\n",
        "      <td>  19</td>\n",
        "      <td> 4.5</td>\n",
        "      <td> 4.5</td>\n",
        "      <td> 4.5</td>\n",
        "      <td>  19</td>\n",
        "      <td>   8</td>\n",
        "      <td> 4.0</td>\n",
        "      <td>  178</td>\n",
        "      <td> 4.172340</td>\n",
        "      <td> False</td>\n",
        "    </tr>\n",
        "    <tr>\n",
        "      <th>Courtyard Boston-South Boston</th>\n",
        "      <td>   56</td>\n",
        "      <td>   73</td>\n",
        "      <td> 4.5</td>\n",
        "      <td>   90</td>\n",
        "      <td>   91</td>\n",
        "      <td> 111</td>\n",
        "      <td> 4.0</td>\n",
        "      <td>  23</td>\n",
        "      <td> 4.5</td>\n",
        "      <td> 4.0</td>\n",
        "      <td> 3.5</td>\n",
        "      <td>  22</td>\n",
        "      <td>  12</td>\n",
        "      <td> 4.0</td>\n",
        "      <td>  162</td>\n",
        "      <td> 3.863372</td>\n",
        "      <td> False</td>\n",
        "    </tr>\n",
        "    <tr>\n",
        "      <th>Boston Marriott Long Wharf</th>\n",
        "      <td>  137</td>\n",
        "      <td>  253</td>\n",
        "      <td> 4.5</td>\n",
        "      <td>  344</td>\n",
        "      <td>  611</td>\n",
        "      <td> 434</td>\n",
        "      <td> 5.0</td>\n",
        "      <td>  49</td>\n",
        "      <td> 4.0</td>\n",
        "      <td> 4.5</td>\n",
        "      <td> 4.0</td>\n",
        "      <td>  38</td>\n",
        "      <td>  26</td>\n",
        "      <td> 3.5</td>\n",
        "      <td>  467</td>\n",
        "      <td> 4.231008</td>\n",
        "      <td> False</td>\n",
        "    </tr>\n",
        "    <tr>\n",
        "      <th>InterContinental Boston</th>\n",
        "      <td>  130</td>\n",
        "      <td>  475</td>\n",
        "      <td> 4.5</td>\n",
        "      <td>  665</td>\n",
        "      <td> 1138</td>\n",
        "      <td> 383</td>\n",
        "      <td> 4.5</td>\n",
        "      <td>  56</td>\n",
        "      <td> 4.5</td>\n",
        "      <td> 4.5</td>\n",
        "      <td> 4.5</td>\n",
        "      <td> 127</td>\n",
        "      <td>  47</td>\n",
        "      <td> 4.0</td>\n",
        "      <td>  526</td>\n",
        "      <td> 4.397997</td>\n",
        "      <td> False</td>\n",
        "    </tr>\n",
        "    <tr>\n",
        "      <th>Boston Park Plaza</th>\n",
        "      <td> 1013</td>\n",
        "      <td> 1190</td>\n",
        "      <td> 3.5</td>\n",
        "      <td> 1246</td>\n",
        "      <td>  741</td>\n",
        "      <td> 630</td>\n",
        "      <td> 4.5</td>\n",
        "      <td> 662</td>\n",
        "      <td> 3.0</td>\n",
        "      <td> 3.5</td>\n",
        "      <td> 3.5</td>\n",
        "      <td> 293</td>\n",
        "      <td> 516</td>\n",
        "      <td> 3.5</td>\n",
        "      <td> 1316</td>\n",
        "      <td> 3.259887</td>\n",
        "      <td> False</td>\n",
        "    </tr>\n",
        "    <tr>\n",
        "      <th>Boston Marriott Copley Place</th>\n",
        "      <td>  332</td>\n",
        "      <td>  710</td>\n",
        "      <td> 4.5</td>\n",
        "      <td>  466</td>\n",
        "      <td>  638</td>\n",
        "      <td> 440</td>\n",
        "      <td> 4.5</td>\n",
        "      <td>  98</td>\n",
        "      <td> 4.0</td>\n",
        "      <td> 4.0</td>\n",
        "      <td> 4.0</td>\n",
        "      <td>  95</td>\n",
        "      <td>  35</td>\n",
        "      <td> 3.5</td>\n",
        "      <td>  937</td>\n",
        "      <td> 4.002451</td>\n",
        "      <td> False</td>\n",
        "    </tr>\n",
        "    <tr>\n",
        "      <th>Boston Harbor Hotel</th>\n",
        "      <td>   44</td>\n",
        "      <td>  255</td>\n",
        "      <td> 5.0</td>\n",
        "      <td>  462</td>\n",
        "      <td>  991</td>\n",
        "      <td> 284</td>\n",
        "      <td> 5.0</td>\n",
        "      <td>  15</td>\n",
        "      <td> 4.5</td>\n",
        "      <td> 5.0</td>\n",
        "      <td> 4.5</td>\n",
        "      <td>  55</td>\n",
        "      <td>  11</td>\n",
        "      <td> 4.5</td>\n",
        "      <td>  189</td>\n",
        "      <td> 4.707200</td>\n",
        "      <td>  True</td>\n",
        "    </tr>\n",
        "    <tr>\n",
        "      <th>The Boston Common Hotel and Conference Center</th>\n",
        "      <td>  147</td>\n",
        "      <td>   80</td>\n",
        "      <td> 3.5</td>\n",
        "      <td>  160</td>\n",
        "      <td>   46</td>\n",
        "      <td>  66</td>\n",
        "      <td> 4.5</td>\n",
        "      <td>  59</td>\n",
        "      <td> 3.0</td>\n",
        "      <td> 3.5</td>\n",
        "      <td> 3.5</td>\n",
        "      <td>  37</td>\n",
        "      <td>  33</td>\n",
        "      <td> 3.5</td>\n",
        "      <td>  158</td>\n",
        "      <td> 3.282167</td>\n",
        "      <td> False</td>\n",
        "    </tr>\n",
        "    <tr>\n",
        "      <th>Chandler Inn</th>\n",
        "      <td>  110</td>\n",
        "      <td>  120</td>\n",
        "      <td> 4.5</td>\n",
        "      <td>  367</td>\n",
        "      <td>  269</td>\n",
        "      <td>  77</td>\n",
        "      <td> 4.5</td>\n",
        "      <td>  48</td>\n",
        "      <td> 4.0</td>\n",
        "      <td> 4.0</td>\n",
        "      <td> 4.0</td>\n",
        "      <td> 126</td>\n",
        "      <td>  25</td>\n",
        "      <td> 4.0</td>\n",
        "      <td>  406</td>\n",
        "      <td> 3.986014</td>\n",
        "      <td> False</td>\n",
        "    </tr>\n",
        "    <tr>\n",
        "      <th>Newbury Guest House</th>\n",
        "      <td>   44</td>\n",
        "      <td>   45</td>\n",
        "      <td> 4.5</td>\n",
        "      <td>  200</td>\n",
        "      <td>  173</td>\n",
        "      <td>  64</td>\n",
        "      <td> 5.0</td>\n",
        "      <td>  20</td>\n",
        "      <td> 4.0</td>\n",
        "      <td> 4.0</td>\n",
        "      <td> 4.5</td>\n",
        "      <td>  26</td>\n",
        "      <td>  14</td>\n",
        "      <td> 4.0</td>\n",
        "      <td>  185</td>\n",
        "      <td> 4.107798</td>\n",
        "      <td> False</td>\n",
        "    </tr>\n",
        "    <tr>\n",
        "      <th>...</th>\n",
        "      <td>...</td>\n",
        "      <td>...</td>\n",
        "      <td>...</td>\n",
        "      <td>...</td>\n",
        "      <td>...</td>\n",
        "      <td>...</td>\n",
        "      <td>...</td>\n",
        "      <td>...</td>\n",
        "      <td>...</td>\n",
        "      <td>...</td>\n",
        "      <td>...</td>\n",
        "      <td>...</td>\n",
        "      <td>...</td>\n",
        "      <td>...</td>\n",
        "      <td>...</td>\n",
        "      <td>...</td>\n",
        "      <td>...</td>\n",
        "    </tr>\n",
        "    <tr>\n",
        "      <th>Charlesmark Hotel</th>\n",
        "      <td>   71</td>\n",
        "      <td>  140</td>\n",
        "      <td> 4.5</td>\n",
        "      <td>  304</td>\n",
        "      <td>  329</td>\n",
        "      <td>  44</td>\n",
        "      <td> 5.0</td>\n",
        "      <td>  34</td>\n",
        "      <td> 4.0</td>\n",
        "      <td> 4.0</td>\n",
        "      <td> 4.0</td>\n",
        "      <td>  95</td>\n",
        "      <td>  18</td>\n",
        "      <td> 4.0</td>\n",
        "      <td>  302</td>\n",
        "      <td> 4.180371</td>\n",
        "      <td> False</td>\n",
        "    </tr>\n",
        "    <tr>\n",
        "      <th>The Verb Hotel</th>\n",
        "      <td>    9</td>\n",
        "      <td>   31</td>\n",
        "      <td> 5.0</td>\n",
        "      <td>   78</td>\n",
        "      <td>  177</td>\n",
        "      <td>  41</td>\n",
        "      <td> 4.5</td>\n",
        "      <td>   1</td>\n",
        "      <td> 4.5</td>\n",
        "      <td> 4.5</td>\n",
        "      <td> 4.5</td>\n",
        "      <td>  18</td>\n",
        "      <td>   2</td>\n",
        "      <td> 4.5</td>\n",
        "      <td>   56</td>\n",
        "      <td> 4.653061</td>\n",
        "      <td>  True</td>\n",
        "    </tr>\n",
        "    <tr>\n",
        "      <th>Loews Boston Hotel</th>\n",
        "      <td>   59</td>\n",
        "      <td>  152</td>\n",
        "      <td> 4.5</td>\n",
        "      <td>  275</td>\n",
        "      <td>  478</td>\n",
        "      <td> 175</td>\n",
        "      <td> 4.5</td>\n",
        "      <td>  15</td>\n",
        "      <td> 4.5</td>\n",
        "      <td> 4.5</td>\n",
        "      <td> 4.5</td>\n",
        "      <td>  22</td>\n",
        "      <td>   3</td>\n",
        "      <td> 4.0</td>\n",
        "      <td>  216</td>\n",
        "      <td> 4.492866</td>\n",
        "      <td>  True</td>\n",
        "    </tr>\n",
        "    <tr>\n",
        "      <th>Residence Inn by Marriott Boston Harbor on Tudor Wharf</th>\n",
        "      <td>   42</td>\n",
        "      <td>   71</td>\n",
        "      <td> 4.5</td>\n",
        "      <td>  140</td>\n",
        "      <td>  277</td>\n",
        "      <td> 196</td>\n",
        "      <td> 4.5</td>\n",
        "      <td>  14</td>\n",
        "      <td> 4.5</td>\n",
        "      <td> 4.5</td>\n",
        "      <td> 4.5</td>\n",
        "      <td>  25</td>\n",
        "      <td>   4</td>\n",
        "      <td> 4.0</td>\n",
        "      <td>  182</td>\n",
        "      <td> 4.375723</td>\n",
        "      <td> False</td>\n",
        "    </tr>\n",
        "    <tr>\n",
        "      <th>Hilton Boston Back Bay</th>\n",
        "      <td>  283</td>\n",
        "      <td>  471</td>\n",
        "      <td> 4.5</td>\n",
        "      <td>  458</td>\n",
        "      <td>  575</td>\n",
        "      <td> 413</td>\n",
        "      <td> 4.5</td>\n",
        "      <td>  91</td>\n",
        "      <td> 4.0</td>\n",
        "      <td> 4.0</td>\n",
        "      <td> 4.0</td>\n",
        "      <td> 116</td>\n",
        "      <td>  27</td>\n",
        "      <td> 4.0</td>\n",
        "      <td>  731</td>\n",
        "      <td> 4.016989</td>\n",
        "      <td> False</td>\n",
        "    </tr>\n",
        "    <tr>\n",
        "      <th>Battery Wharf Hotel, Boston Waterfront</th>\n",
        "      <td>   74</td>\n",
        "      <td>  128</td>\n",
        "      <td> 4.5</td>\n",
        "      <td>  407</td>\n",
        "      <td>  560</td>\n",
        "      <td> 175</td>\n",
        "      <td> 4.5</td>\n",
        "      <td>  24</td>\n",
        "      <td> 4.5</td>\n",
        "      <td> 4.5</td>\n",
        "      <td> 4.5</td>\n",
        "      <td>  51</td>\n",
        "      <td>   9</td>\n",
        "      <td> 4.0</td>\n",
        "      <td>  197</td>\n",
        "      <td> 4.475694</td>\n",
        "      <td>  True</td>\n",
        "    </tr>\n",
        "    <tr>\n",
        "      <th>Seaport Boston Hotel</th>\n",
        "      <td>   98</td>\n",
        "      <td> 1113</td>\n",
        "      <td> 5.0</td>\n",
        "      <td>  552</td>\n",
        "      <td> 1883</td>\n",
        "      <td> 461</td>\n",
        "      <td> 4.5</td>\n",
        "      <td>  33</td>\n",
        "      <td> 4.5</td>\n",
        "      <td> 4.5</td>\n",
        "      <td> 4.5</td>\n",
        "      <td> 108</td>\n",
        "      <td>  31</td>\n",
        "      <td> 4.5</td>\n",
        "      <td>  506</td>\n",
        "      <td> 4.637397</td>\n",
        "      <td>  True</td>\n",
        "    </tr>\n",
        "    <tr>\n",
        "      <th>Americas Best Value Inn</th>\n",
        "      <td>    8</td>\n",
        "      <td>    3</td>\n",
        "      <td> 3.0</td>\n",
        "      <td>    3</td>\n",
        "      <td>    2</td>\n",
        "      <td>   4</td>\n",
        "      <td> 3.0</td>\n",
        "      <td>   1</td>\n",
        "      <td> 2.5</td>\n",
        "      <td> 2.5</td>\n",
        "      <td> 2.5</td>\n",
        "      <td>   2</td>\n",
        "      <td>   5</td>\n",
        "      <td> 3.0</td>\n",
        "      <td>    2</td>\n",
        "      <td> 2.722222</td>\n",
        "      <td> False</td>\n",
        "    </tr>\n",
        "    <tr>\n",
        "      <th>Beacon Hill Hotel and Bistro</th>\n",
        "      <td>   18</td>\n",
        "      <td>   13</td>\n",
        "      <td> 4.5</td>\n",
        "      <td>   72</td>\n",
        "      <td>   66</td>\n",
        "      <td>  17</td>\n",
        "      <td> 5.0</td>\n",
        "      <td>   9</td>\n",
        "      <td> 4.0</td>\n",
        "      <td> 4.0</td>\n",
        "      <td> 4.0</td>\n",
        "      <td>  15</td>\n",
        "      <td>   4</td>\n",
        "      <td> 4.0</td>\n",
        "      <td>   46</td>\n",
        "      <td> 4.125874</td>\n",
        "      <td> False</td>\n",
        "    </tr>\n",
        "    <tr>\n",
        "      <th>Hampton Inn &amp; Suites Boston Crosstown Center</th>\n",
        "      <td>   94</td>\n",
        "      <td>  163</td>\n",
        "      <td> 4.5</td>\n",
        "      <td>   95</td>\n",
        "      <td>  203</td>\n",
        "      <td> 173</td>\n",
        "      <td> 4.0</td>\n",
        "      <td>  34</td>\n",
        "      <td> 4.5</td>\n",
        "      <td> 4.0</td>\n",
        "      <td> 3.5</td>\n",
        "      <td>  56</td>\n",
        "      <td>  22</td>\n",
        "      <td> 4.0</td>\n",
        "      <td>  215</td>\n",
        "      <td> 3.955986</td>\n",
        "      <td> False</td>\n",
        "    </tr>\n",
        "    <tr>\n",
        "      <th>Omni Parker House</th>\n",
        "      <td>  563</td>\n",
        "      <td> 1014</td>\n",
        "      <td> 4.5</td>\n",
        "      <td> 1520</td>\n",
        "      <td> 2032</td>\n",
        "      <td> 919</td>\n",
        "      <td> 5.0</td>\n",
        "      <td> 244</td>\n",
        "      <td> 4.0</td>\n",
        "      <td> 4.5</td>\n",
        "      <td> 4.0</td>\n",
        "      <td> 252</td>\n",
        "      <td> 134</td>\n",
        "      <td> 4.0</td>\n",
        "      <td> 1490</td>\n",
        "      <td> 4.129733</td>\n",
        "      <td> False</td>\n",
        "    </tr>\n",
        "    <tr>\n",
        "      <th>Colonnade Hotel</th>\n",
        "      <td>  160</td>\n",
        "      <td>  526</td>\n",
        "      <td> 4.5</td>\n",
        "      <td>  616</td>\n",
        "      <td> 1278</td>\n",
        "      <td> 472</td>\n",
        "      <td> 5.0</td>\n",
        "      <td>  63</td>\n",
        "      <td> 4.5</td>\n",
        "      <td> 4.5</td>\n",
        "      <td> 4.5</td>\n",
        "      <td> 103</td>\n",
        "      <td>  49</td>\n",
        "      <td> 4.0</td>\n",
        "      <td>  513</td>\n",
        "      <td> 4.409598</td>\n",
        "      <td>  True</td>\n",
        "    </tr>\n",
        "    <tr>\n",
        "      <th>The Westin Copley Place</th>\n",
        "      <td>  277</td>\n",
        "      <td>  774</td>\n",
        "      <td> 4.5</td>\n",
        "      <td>  495</td>\n",
        "      <td> 1071</td>\n",
        "      <td> 547</td>\n",
        "      <td> 5.0</td>\n",
        "      <td>  93</td>\n",
        "      <td> 4.5</td>\n",
        "      <td> 4.5</td>\n",
        "      <td> 4.5</td>\n",
        "      <td> 103</td>\n",
        "      <td>  34</td>\n",
        "      <td> 4.0</td>\n",
        "      <td>  832</td>\n",
        "      <td> 4.219332</td>\n",
        "      <td> False</td>\n",
        "    </tr>\n",
        "    <tr>\n",
        "      <th>The Langham, Boston</th>\n",
        "      <td>  112</td>\n",
        "      <td>  324</td>\n",
        "      <td> 4.5</td>\n",
        "      <td>  559</td>\n",
        "      <td>  809</td>\n",
        "      <td> 249</td>\n",
        "      <td> 4.5</td>\n",
        "      <td>  41</td>\n",
        "      <td> 4.5</td>\n",
        "      <td> 4.5</td>\n",
        "      <td> 4.5</td>\n",
        "      <td>  51</td>\n",
        "      <td>  29</td>\n",
        "      <td> 4.0</td>\n",
        "      <td>  419</td>\n",
        "      <td> 4.374468</td>\n",
        "      <td> False</td>\n",
        "    </tr>\n",
        "    <tr>\n",
        "      <th>Residence Inn Boston Downtown Seaport</th>\n",
        "      <td>    6</td>\n",
        "      <td>   53</td>\n",
        "      <td> 5.0</td>\n",
        "      <td>   69</td>\n",
        "      <td>  168</td>\n",
        "      <td>  65</td>\n",
        "      <td> 4.5</td>\n",
        "      <td>   7</td>\n",
        "      <td> 5.0</td>\n",
        "      <td> 4.5</td>\n",
        "      <td> 4.5</td>\n",
        "      <td>   4</td>\n",
        "      <td>   1</td>\n",
        "      <td> 4.0</td>\n",
        "      <td>   52</td>\n",
        "      <td> 4.619658</td>\n",
        "      <td>  True</td>\n",
        "    </tr>\n",
        "    <tr>\n",
        "      <th>Milner Hotel</th>\n",
        "      <td>  112</td>\n",
        "      <td>   56</td>\n",
        "      <td> 3.5</td>\n",
        "      <td>  107</td>\n",
        "      <td>   29</td>\n",
        "      <td>  43</td>\n",
        "      <td> 4.5</td>\n",
        "      <td>  44</td>\n",
        "      <td> 2.5</td>\n",
        "      <td> 3.5</td>\n",
        "      <td> 3.5</td>\n",
        "      <td>  77</td>\n",
        "      <td>  64</td>\n",
        "      <td> 3.5</td>\n",
        "      <td>  119</td>\n",
        "      <td> 3.013587</td>\n",
        "      <td> False</td>\n",
        "    </tr>\n",
        "    <tr>\n",
        "      <th>Hyatt Regency Boston</th>\n",
        "      <td>  381</td>\n",
        "      <td>  474</td>\n",
        "      <td> 4.5</td>\n",
        "      <td>  568</td>\n",
        "      <td>  627</td>\n",
        "      <td> 393</td>\n",
        "      <td> 4.5</td>\n",
        "      <td> 133</td>\n",
        "      <td> 4.0</td>\n",
        "      <td> 4.0</td>\n",
        "      <td> 4.0</td>\n",
        "      <td> 115</td>\n",
        "      <td>  55</td>\n",
        "      <td> 3.5</td>\n",
        "      <td>  738</td>\n",
        "      <td> 3.904343</td>\n",
        "      <td> False</td>\n",
        "    </tr>\n",
        "    <tr>\n",
        "      <th>The Fairmont Copley Plaza, Boston</th>\n",
        "      <td>  157</td>\n",
        "      <td>  444</td>\n",
        "      <td> 4.5</td>\n",
        "      <td>  557</td>\n",
        "      <td>  923</td>\n",
        "      <td> 316</td>\n",
        "      <td> 5.0</td>\n",
        "      <td>  68</td>\n",
        "      <td> 4.0</td>\n",
        "      <td> 4.5</td>\n",
        "      <td> 4.5</td>\n",
        "      <td>  71</td>\n",
        "      <td>  29</td>\n",
        "      <td> 4.0</td>\n",
        "      <td>  434</td>\n",
        "      <td> 4.337058</td>\n",
        "      <td> False</td>\n",
        "    </tr>\n",
        "    <tr>\n",
        "      <th>Taj Boston</th>\n",
        "      <td>  149</td>\n",
        "      <td>  244</td>\n",
        "      <td> 4.5</td>\n",
        "      <td>  433</td>\n",
        "      <td>  509</td>\n",
        "      <td> 241</td>\n",
        "      <td> 5.0</td>\n",
        "      <td>  83</td>\n",
        "      <td> 4.0</td>\n",
        "      <td> 4.0</td>\n",
        "      <td> 4.5</td>\n",
        "      <td>  77</td>\n",
        "      <td>  32</td>\n",
        "      <td> 4.0</td>\n",
        "      <td>  374</td>\n",
        "      <td> 4.085440</td>\n",
        "      <td> False</td>\n",
        "    </tr>\n",
        "    <tr>\n",
        "      <th>Courtyard by Marriott Boston Logan Airport</th>\n",
        "      <td>  102</td>\n",
        "      <td>  138</td>\n",
        "      <td> 4.0</td>\n",
        "      <td>  108</td>\n",
        "      <td>   98</td>\n",
        "      <td>  92</td>\n",
        "      <td> 4.0</td>\n",
        "      <td>  36</td>\n",
        "      <td> 4.0</td>\n",
        "      <td> 4.0</td>\n",
        "      <td> 4.0</td>\n",
        "      <td>  40</td>\n",
        "      <td>  18</td>\n",
        "      <td> 3.5</td>\n",
        "      <td>  176</td>\n",
        "      <td> 3.697674</td>\n",
        "      <td> False</td>\n",
        "    </tr>\n",
        "    <tr>\n",
        "      <th>Hotel Commonwealth</th>\n",
        "      <td>   81</td>\n",
        "      <td>  585</td>\n",
        "      <td> 5.0</td>\n",
        "      <td>  853</td>\n",
        "      <td> 2371</td>\n",
        "      <td> 915</td>\n",
        "      <td> 5.0</td>\n",
        "      <td>  39</td>\n",
        "      <td> 5.0</td>\n",
        "      <td> 5.0</td>\n",
        "      <td> 5.0</td>\n",
        "      <td> 147</td>\n",
        "      <td>  13</td>\n",
        "      <td> 4.5</td>\n",
        "      <td>  442</td>\n",
        "      <td> 4.737610</td>\n",
        "      <td>  True</td>\n",
        "    </tr>\n",
        "    <tr>\n",
        "      <th>Revere Hotel Boston Common</th>\n",
        "      <td>  181</td>\n",
        "      <td>  300</td>\n",
        "      <td> 4.5</td>\n",
        "      <td>  624</td>\n",
        "      <td> 1094</td>\n",
        "      <td> 445</td>\n",
        "      <td> 4.5</td>\n",
        "      <td>  39</td>\n",
        "      <td> 4.5</td>\n",
        "      <td> 4.5</td>\n",
        "      <td> 4.5</td>\n",
        "      <td>  78</td>\n",
        "      <td>  17</td>\n",
        "      <td> 4.0</td>\n",
        "      <td>  619</td>\n",
        "      <td> 4.402051</td>\n",
        "      <td> False</td>\n",
        "    </tr>\n",
        "    <tr>\n",
        "      <th>Residence Inn Boston Back Bay / Fenway</th>\n",
        "      <td>   23</td>\n",
        "      <td>   86</td>\n",
        "      <td> 5.0</td>\n",
        "      <td>   86</td>\n",
        "      <td>  352</td>\n",
        "      <td> 198</td>\n",
        "      <td> 4.5</td>\n",
        "      <td>   9</td>\n",
        "      <td> 4.5</td>\n",
        "      <td> 4.5</td>\n",
        "      <td> 4.5</td>\n",
        "      <td>  16</td>\n",
        "      <td>   3</td>\n",
        "      <td> 4.5</td>\n",
        "      <td>  135</td>\n",
        "      <td> 4.578544</td>\n",
        "      <td>  True</td>\n",
        "    </tr>\n",
        "    <tr>\n",
        "      <th>The Inn At St Botolph</th>\n",
        "      <td>   20</td>\n",
        "      <td>   87</td>\n",
        "      <td> 4.5</td>\n",
        "      <td>  186</td>\n",
        "      <td>  295</td>\n",
        "      <td>  78</td>\n",
        "      <td> 5.0</td>\n",
        "      <td>   7</td>\n",
        "      <td> 4.5</td>\n",
        "      <td> 4.5</td>\n",
        "      <td> 4.5</td>\n",
        "      <td>  51</td>\n",
        "      <td>   2</td>\n",
        "      <td> 4.5</td>\n",
        "      <td>  105</td>\n",
        "      <td> 4.594406</td>\n",
        "      <td>  True</td>\n",
        "    </tr>\n",
        "    <tr>\n",
        "      <th>Comfort Inn - Boston</th>\n",
        "      <td>   85</td>\n",
        "      <td>   41</td>\n",
        "      <td> 4.0</td>\n",
        "      <td>   91</td>\n",
        "      <td>   47</td>\n",
        "      <td>  69</td>\n",
        "      <td> 3.5</td>\n",
        "      <td>  34</td>\n",
        "      <td> 3.5</td>\n",
        "      <td> 3.5</td>\n",
        "      <td> 3.0</td>\n",
        "      <td>  17</td>\n",
        "      <td>  27</td>\n",
        "      <td> 3.5</td>\n",
        "      <td>   94</td>\n",
        "      <td> 3.348432</td>\n",
        "      <td> False</td>\n",
        "    </tr>\n",
        "    <tr>\n",
        "      <th>Club Quarters in Boston</th>\n",
        "      <td>  133</td>\n",
        "      <td>  239</td>\n",
        "      <td> 4.5</td>\n",
        "      <td>  354</td>\n",
        "      <td>  415</td>\n",
        "      <td> 111</td>\n",
        "      <td> 4.5</td>\n",
        "      <td>  49</td>\n",
        "      <td> 4.0</td>\n",
        "      <td> 4.0</td>\n",
        "      <td> 4.0</td>\n",
        "      <td> 112</td>\n",
        "      <td>  34</td>\n",
        "      <td> 4.0</td>\n",
        "      <td>  420</td>\n",
        "      <td> 4.078021</td>\n",
        "      <td> False</td>\n",
        "    </tr>\n",
        "    <tr>\n",
        "      <th>Hotel 140</th>\n",
        "      <td>  160</td>\n",
        "      <td>  148</td>\n",
        "      <td> 4.5</td>\n",
        "      <td>  417</td>\n",
        "      <td>  319</td>\n",
        "      <td> 118</td>\n",
        "      <td> 4.5</td>\n",
        "      <td>  55</td>\n",
        "      <td> 3.5</td>\n",
        "      <td> 4.0</td>\n",
        "      <td> 4.0</td>\n",
        "      <td> 108</td>\n",
        "      <td>  45</td>\n",
        "      <td> 4.0</td>\n",
        "      <td>  390</td>\n",
        "      <td> 3.911249</td>\n",
        "      <td> False</td>\n",
        "    </tr>\n",
        "    <tr>\n",
        "      <th>BEST WESTERN University Hotel Boston-Brighton</th>\n",
        "      <td>   78</td>\n",
        "      <td>   49</td>\n",
        "      <td> 4.0</td>\n",
        "      <td>   59</td>\n",
        "      <td>   97</td>\n",
        "      <td> 166</td>\n",
        "      <td> 4.0</td>\n",
        "      <td>  33</td>\n",
        "      <td> 3.5</td>\n",
        "      <td> 4.0</td>\n",
        "      <td> 4.0</td>\n",
        "      <td>  27</td>\n",
        "      <td>  21</td>\n",
        "      <td> 4.0</td>\n",
        "      <td>  132</td>\n",
        "      <td> 3.695291</td>\n",
        "      <td> False</td>\n",
        "    </tr>\n",
        "    <tr>\n",
        "      <th>Eliot Hotel</th>\n",
        "      <td>   65</td>\n",
        "      <td>  117</td>\n",
        "      <td> 4.5</td>\n",
        "      <td>  206</td>\n",
        "      <td>  433</td>\n",
        "      <td> 223</td>\n",
        "      <td> 4.5</td>\n",
        "      <td>  29</td>\n",
        "      <td> 4.5</td>\n",
        "      <td> 4.5</td>\n",
        "      <td> 4.5</td>\n",
        "      <td>  29</td>\n",
        "      <td>  23</td>\n",
        "      <td> 4.0</td>\n",
        "      <td>  196</td>\n",
        "      <td> 4.323056</td>\n",
        "      <td> False</td>\n",
        "    </tr>\n",
        "    <tr>\n",
        "      <th>Constitution Inn</th>\n",
        "      <td>  115</td>\n",
        "      <td>   42</td>\n",
        "      <td> 3.5</td>\n",
        "      <td>  112</td>\n",
        "      <td>   56</td>\n",
        "      <td> 103</td>\n",
        "      <td> 3.5</td>\n",
        "      <td>  60</td>\n",
        "      <td> 3.0</td>\n",
        "      <td> 3.5</td>\n",
        "      <td> 3.5</td>\n",
        "      <td>  33</td>\n",
        "      <td>  49</td>\n",
        "      <td> 3.5</td>\n",
        "      <td>  131</td>\n",
        "      <td> 3.206813</td>\n",
        "      <td> False</td>\n",
        "    </tr>\n",
        "  </tbody>\n",
        "</table>\n",
        "<p>70 rows \u00d7 17 columns</p>\n",
        "</div>"
       ],
       "metadata": {},
       "output_type": "pyout",
       "prompt_number": 44,
       "text": [
        "                                                        Average  Business  \\\n",
        "XV Beacon                                                    30       115   \n",
        "Courtyard Boston Downtown                                   266       224   \n",
        "The Ritz-Carlton Boston Common                               51       143   \n",
        "Harborside Inn                                               98       113   \n",
        "Onyx Hotel - a Kimpton Hotel                                109       148   \n",
        "Boston Hotel Buckminster                                    149       106   \n",
        "Sheraton Boston Hotel                                        74       203   \n",
        "DoubleTree Suites by Hilton Boston-Cambridge                138       293   \n",
        "The Liberty Hotel                                            77       173   \n",
        "Courtyard by Marriott Boston Copley Square                   43       300   \n",
        "Days Hotel Boston                                            57        41   \n",
        "Four Seasons Hotel Boston                                    47       317   \n",
        "Hilton Boston Downtown / Faneuil Hall                       162       230   \n",
        "DoubleTree Club by Hilton Hotel Boston Bayside              228       224   \n",
        "Marriott's Custom House                                      11        45   \n",
        "Embassy Suites Boston Logan Airport                         217       302   \n",
        "Nine Zero Hotel - a Kimpton Hotel                           105       324   \n",
        "Holiday Inn Express Hotel & Suites Boston Garden             64        45   \n",
        "Ramada Boston                                               256       163   \n",
        "Ames Boston Hotel                                            89       153   \n",
        "DoubleTree by Hilton Hotel Boston - Downtown                 61       145   \n",
        "Courtyard Boston-South Boston                                56        73   \n",
        "Boston Marriott Long Wharf                                  137       253   \n",
        "InterContinental Boston                                     130       475   \n",
        "Boston Park Plaza                                          1013      1190   \n",
        "Boston Marriott Copley Place                                332       710   \n",
        "Boston Harbor Hotel                                          44       255   \n",
        "The Boston Common Hotel and Conference Center               147        80   \n",
        "Chandler Inn                                                110       120   \n",
        "Newbury Guest House                                          44        45   \n",
        "...                                                         ...       ...   \n",
        "Charlesmark Hotel                                            71       140   \n",
        "The Verb Hotel                                                9        31   \n",
        "Loews Boston Hotel                                           59       152   \n",
        "Residence Inn by Marriott Boston Harbor on Tudor Wharf       42        71   \n",
        "Hilton Boston Back Bay                                      283       471   \n",
        "Battery Wharf Hotel, Boston Waterfront                       74       128   \n",
        "Seaport Boston Hotel                                         98      1113   \n",
        "Americas Best Value Inn                                       8         3   \n",
        "Beacon Hill Hotel and Bistro                                 18        13   \n",
        "Hampton Inn & Suites Boston Crosstown Center                 94       163   \n",
        "Omni Parker House                                           563      1014   \n",
        "Colonnade Hotel                                             160       526   \n",
        "The Westin Copley Place                                     277       774   \n",
        "The Langham, Boston                                         112       324   \n",
        "Residence Inn Boston Downtown Seaport                         6        53   \n",
        "Milner Hotel                                                112        56   \n",
        "Hyatt Regency Boston                                        381       474   \n",
        "The Fairmont Copley Plaza, Boston                           157       444   \n",
        "Taj Boston                                                  149       244   \n",
        "Courtyard by Marriott Boston Logan Airport                  102       138   \n",
        "Hotel Commonwealth                                           81       585   \n",
        "Revere Hotel Boston Common                                  181       300   \n",
        "Residence Inn Boston Back Bay / Fenway                       23        86   \n",
        "The Inn At St Botolph                                        20        87   \n",
        "Comfort Inn - Boston                                         85        41   \n",
        "Club Quarters in Boston                                     133       239   \n",
        "Hotel 140                                                   160       148   \n",
        "BEST WESTERN University Hotel Boston-Brighton                78        49   \n",
        "Eliot Hotel                                                  65       117   \n",
        "Constitution Inn                                            115        42   \n",
        "\n",
        "                                                        Cleanliness  Couples  \\\n",
        "XV Beacon                                                       5.0      406   \n",
        "Courtyard Boston Downtown                                       3.5      234   \n",
        "The Ritz-Carlton Boston Common                                  4.5      120   \n",
        "Harborside Inn                                                  4.5      545   \n",
        "Onyx Hotel - a Kimpton Hotel                                    4.5      373   \n",
        "Boston Hotel Buckminster                                        4.0      276   \n",
        "Sheraton Boston Hotel                                           4.5      127   \n",
        "DoubleTree Suites by Hilton Boston-Cambridge                    4.5      191   \n",
        "The Liberty Hotel                                               4.5      264   \n",
        "Courtyard by Marriott Boston Copley Square                      4.5      222   \n",
        "Days Hotel Boston                                               3.0       31   \n",
        "Four Seasons Hotel Boston                                       5.0      256   \n",
        "Hilton Boston Downtown / Faneuil Hall                           4.5      252   \n",
        "DoubleTree Club by Hilton Hotel Boston Bayside                  4.0      247   \n",
        "Marriott's Custom House                                         4.5      179   \n",
        "Embassy Suites Boston Logan Airport                             4.5      307   \n",
        "Nine Zero Hotel - a Kimpton Hotel                               4.5      830   \n",
        "Holiday Inn Express Hotel & Suites Boston Garden                4.0       92   \n",
        "Ramada Boston                                                   3.5      195   \n",
        "Ames Boston Hotel                                               4.5      431   \n",
        "DoubleTree by Hilton Hotel Boston - Downtown                    4.5      110   \n",
        "Courtyard Boston-South Boston                                   4.5       90   \n",
        "Boston Marriott Long Wharf                                      4.5      344   \n",
        "InterContinental Boston                                         4.5      665   \n",
        "Boston Park Plaza                                               3.5     1246   \n",
        "Boston Marriott Copley Place                                    4.5      466   \n",
        "Boston Harbor Hotel                                             5.0      462   \n",
        "The Boston Common Hotel and Conference Center                   3.5      160   \n",
        "Chandler Inn                                                    4.5      367   \n",
        "Newbury Guest House                                             4.5      200   \n",
        "...                                                             ...      ...   \n",
        "Charlesmark Hotel                                               4.5      304   \n",
        "The Verb Hotel                                                  5.0       78   \n",
        "Loews Boston Hotel                                              4.5      275   \n",
        "Residence Inn by Marriott Boston Harbor on Tudor Wharf          4.5      140   \n",
        "Hilton Boston Back Bay                                          4.5      458   \n",
        "Battery Wharf Hotel, Boston Waterfront                          4.5      407   \n",
        "Seaport Boston Hotel                                            5.0      552   \n",
        "Americas Best Value Inn                                         3.0        3   \n",
        "Beacon Hill Hotel and Bistro                                    4.5       72   \n",
        "Hampton Inn & Suites Boston Crosstown Center                    4.5       95   \n",
        "Omni Parker House                                               4.5     1520   \n",
        "Colonnade Hotel                                                 4.5      616   \n",
        "The Westin Copley Place                                         4.5      495   \n",
        "The Langham, Boston                                             4.5      559   \n",
        "Residence Inn Boston Downtown Seaport                           5.0       69   \n",
        "Milner Hotel                                                    3.5      107   \n",
        "Hyatt Regency Boston                                            4.5      568   \n",
        "The Fairmont Copley Plaza, Boston                               4.5      557   \n",
        "Taj Boston                                                      4.5      433   \n",
        "Courtyard by Marriott Boston Logan Airport                      4.0      108   \n",
        "Hotel Commonwealth                                              5.0      853   \n",
        "Revere Hotel Boston Common                                      4.5      624   \n",
        "Residence Inn Boston Back Bay / Fenway                          5.0       86   \n",
        "The Inn At St Botolph                                           4.5      186   \n",
        "Comfort Inn - Boston                                            4.0       91   \n",
        "Club Quarters in Boston                                         4.5      354   \n",
        "Hotel 140                                                       4.5      417   \n",
        "BEST WESTERN University Hotel Boston-Brighton                   4.0       59   \n",
        "Eliot Hotel                                                     4.5      206   \n",
        "Constitution Inn                                                3.5      112   \n",
        "\n",
        "                                                        Excellent  Familes  \\\n",
        "XV Beacon                                                     598      112   \n",
        "Courtyard Boston Downtown                                      76      114   \n",
        "The Ritz-Carlton Boston Common                                299      124   \n",
        "Harborside Inn                                                388       87   \n",
        "Onyx Hotel - a Kimpton Hotel                                  478      174   \n",
        "Boston Hotel Buckminster                                      169      178   \n",
        "Sheraton Boston Hotel                                         197      107   \n",
        "DoubleTree Suites by Hilton Boston-Cambridge                  390      364   \n",
        "The Liberty Hotel                                             396      126   \n",
        "Courtyard by Marriott Boston Copley Square                    628      230   \n",
        "Days Hotel Boston                                              19       58   \n",
        "Four Seasons Hotel Boston                                     810      292   \n",
        "Hilton Boston Downtown / Faneuil Hall                         301      206   \n",
        "DoubleTree Club by Hilton Hotel Boston Bayside                259      234   \n",
        "Marriott's Custom House                                       381      218   \n",
        "Embassy Suites Boston Logan Airport                           482      429   \n",
        "Nine Zero Hotel - a Kimpton Hotel                            1179      328   \n",
        "Holiday Inn Express Hotel & Suites Boston Garden               81       72   \n",
        "Ramada Boston                                                 130      296   \n",
        "Ames Boston Hotel                                             473      103   \n",
        "DoubleTree by Hilton Hotel Boston - Downtown                  204      114   \n",
        "Courtyard Boston-South Boston                                  91      111   \n",
        "Boston Marriott Long Wharf                                    611      434   \n",
        "InterContinental Boston                                      1138      383   \n",
        "Boston Park Plaza                                             741      630   \n",
        "Boston Marriott Copley Place                                  638      440   \n",
        "Boston Harbor Hotel                                           991      284   \n",
        "The Boston Common Hotel and Conference Center                  46       66   \n",
        "Chandler Inn                                                  269       77   \n",
        "Newbury Guest House                                           173       64   \n",
        "...                                                           ...      ...   \n",
        "Charlesmark Hotel                                             329       44   \n",
        "The Verb Hotel                                                177       41   \n",
        "Loews Boston Hotel                                            478      175   \n",
        "Residence Inn by Marriott Boston Harbor on Tudor Wharf        277      196   \n",
        "Hilton Boston Back Bay                                        575      413   \n",
        "Battery Wharf Hotel, Boston Waterfront                        560      175   \n",
        "Seaport Boston Hotel                                         1883      461   \n",
        "Americas Best Value Inn                                         2        4   \n",
        "Beacon Hill Hotel and Bistro                                   66       17   \n",
        "Hampton Inn & Suites Boston Crosstown Center                  203      173   \n",
        "Omni Parker House                                            2032      919   \n",
        "Colonnade Hotel                                              1278      472   \n",
        "The Westin Copley Place                                      1071      547   \n",
        "The Langham, Boston                                           809      249   \n",
        "Residence Inn Boston Downtown Seaport                         168       65   \n",
        "Milner Hotel                                                   29       43   \n",
        "Hyatt Regency Boston                                          627      393   \n",
        "The Fairmont Copley Plaza, Boston                             923      316   \n",
        "Taj Boston                                                    509      241   \n",
        "Courtyard by Marriott Boston Logan Airport                     98       92   \n",
        "Hotel Commonwealth                                           2371      915   \n",
        "Revere Hotel Boston Common                                   1094      445   \n",
        "Residence Inn Boston Back Bay / Fenway                        352      198   \n",
        "The Inn At St Botolph                                         295       78   \n",
        "Comfort Inn - Boston                                           47       69   \n",
        "Club Quarters in Boston                                       415      111   \n",
        "Hotel 140                                                     319      118   \n",
        "BEST WESTERN University Hotel Boston-Brighton                  97      166   \n",
        "Eliot Hotel                                                   433      223   \n",
        "Constitution Inn                                               56      103   \n",
        "\n",
        "                                                        Location  Poor  Rooms  \\\n",
        "XV Beacon                                                    5.0    22    4.5   \n",
        "Courtyard Boston Downtown                                    4.0   152    3.0   \n",
        "The Ritz-Carlton Boston Common                               4.5    39    4.5   \n",
        "Harborside Inn                                               5.0    47    4.0   \n",
        "Onyx Hotel - a Kimpton Hotel                                 4.5    48    4.0   \n",
        "Boston Hotel Buckminster                                     4.5    67    3.5   \n",
        "Sheraton Boston Hotel                                        4.5    19    4.0   \n",
        "DoubleTree Suites by Hilton Boston-Cambridge                 4.0    58    4.0   \n",
        "The Liberty Hotel                                            4.5    28    4.0   \n",
        "Courtyard by Marriott Boston Copley Square                   5.0     8    4.5   \n",
        "Days Hotel Boston                                            3.5    49    3.0   \n",
        "Four Seasons Hotel Boston                                    5.0    22    4.5   \n",
        "Hilton Boston Downtown / Faneuil Hall                        4.5    42    4.0   \n",
        "DoubleTree Club by Hilton Hotel Boston Bayside               4.0    76    4.0   \n",
        "Marriott's Custom House                                      5.0    12    4.5   \n",
        "Embassy Suites Boston Logan Airport                          4.5    66    4.0   \n",
        "Nine Zero Hotel - a Kimpton Hotel                            5.0    30    4.5   \n",
        "Holiday Inn Express Hotel & Suites Boston Garden             4.5    27    3.5   \n",
        "Ramada Boston                                                3.5   172    3.0   \n",
        "Ames Boston Hotel                                            5.0    35    4.5   \n",
        "DoubleTree by Hilton Hotel Boston - Downtown                 4.5    19    4.5   \n",
        "Courtyard Boston-South Boston                                4.0    23    4.5   \n",
        "Boston Marriott Long Wharf                                   5.0    49    4.0   \n",
        "InterContinental Boston                                      4.5    56    4.5   \n",
        "Boston Park Plaza                                            4.5   662    3.0   \n",
        "Boston Marriott Copley Place                                 4.5    98    4.0   \n",
        "Boston Harbor Hotel                                          5.0    15    4.5   \n",
        "The Boston Common Hotel and Conference Center                4.5    59    3.0   \n",
        "Chandler Inn                                                 4.5    48    4.0   \n",
        "Newbury Guest House                                          5.0    20    4.0   \n",
        "...                                                          ...   ...    ...   \n",
        "Charlesmark Hotel                                            5.0    34    4.0   \n",
        "The Verb Hotel                                               4.5     1    4.5   \n",
        "Loews Boston Hotel                                           4.5    15    4.5   \n",
        "Residence Inn by Marriott Boston Harbor on Tudor Wharf       4.5    14    4.5   \n",
        "Hilton Boston Back Bay                                       4.5    91    4.0   \n",
        "Battery Wharf Hotel, Boston Waterfront                       4.5    24    4.5   \n",
        "Seaport Boston Hotel                                         4.5    33    4.5   \n",
        "Americas Best Value Inn                                      3.0     1    2.5   \n",
        "Beacon Hill Hotel and Bistro                                 5.0     9    4.0   \n",
        "Hampton Inn & Suites Boston Crosstown Center                 4.0    34    4.5   \n",
        "Omni Parker House                                            5.0   244    4.0   \n",
        "Colonnade Hotel                                              5.0    63    4.5   \n",
        "The Westin Copley Place                                      5.0    93    4.5   \n",
        "The Langham, Boston                                          4.5    41    4.5   \n",
        "Residence Inn Boston Downtown Seaport                        4.5     7    5.0   \n",
        "Milner Hotel                                                 4.5    44    2.5   \n",
        "Hyatt Regency Boston                                         4.5   133    4.0   \n",
        "The Fairmont Copley Plaza, Boston                            5.0    68    4.0   \n",
        "Taj Boston                                                   5.0    83    4.0   \n",
        "Courtyard by Marriott Boston Logan Airport                   4.0    36    4.0   \n",
        "Hotel Commonwealth                                           5.0    39    5.0   \n",
        "Revere Hotel Boston Common                                   4.5    39    4.5   \n",
        "Residence Inn Boston Back Bay / Fenway                       4.5     9    4.5   \n",
        "The Inn At St Botolph                                        5.0     7    4.5   \n",
        "Comfort Inn - Boston                                         3.5    34    3.5   \n",
        "Club Quarters in Boston                                      4.5    49    4.0   \n",
        "Hotel 140                                                    4.5    55    3.5   \n",
        "BEST WESTERN University Hotel Boston-Brighton                4.0    33    3.5   \n",
        "Eliot Hotel                                                  4.5    29    4.5   \n",
        "Constitution Inn                                             3.5    60    3.0   \n",
        "\n",
        "                                                        Service  \\\n",
        "XV Beacon                                                   4.5   \n",
        "Courtyard Boston Downtown                                   3.5   \n",
        "The Ritz-Carlton Boston Common                              4.5   \n",
        "Harborside Inn                                              4.0   \n",
        "Onyx Hotel - a Kimpton Hotel                                4.5   \n",
        "Boston Hotel Buckminster                                    4.0   \n",
        "Sheraton Boston Hotel                                       4.0   \n",
        "DoubleTree Suites by Hilton Boston-Cambridge                4.0   \n",
        "The Liberty Hotel                                           4.5   \n",
        "Courtyard by Marriott Boston Copley Square                  4.5   \n",
        "Days Hotel Boston                                           3.0   \n",
        "Four Seasons Hotel Boston                                   5.0   \n",
        "Hilton Boston Downtown / Faneuil Hall                       4.0   \n",
        "DoubleTree Club by Hilton Hotel Boston Bayside              4.0   \n",
        "Marriott's Custom House                                     4.5   \n",
        "Embassy Suites Boston Logan Airport                         4.0   \n",
        "Nine Zero Hotel - a Kimpton Hotel                           4.5   \n",
        "Holiday Inn Express Hotel & Suites Boston Garden            4.0   \n",
        "Ramada Boston                                               3.5   \n",
        "Ames Boston Hotel                                           4.5   \n",
        "DoubleTree by Hilton Hotel Boston - Downtown                4.5   \n",
        "Courtyard Boston-South Boston                               4.0   \n",
        "Boston Marriott Long Wharf                                  4.5   \n",
        "InterContinental Boston                                     4.5   \n",
        "Boston Park Plaza                                           3.5   \n",
        "Boston Marriott Copley Place                                4.0   \n",
        "Boston Harbor Hotel                                         5.0   \n",
        "The Boston Common Hotel and Conference Center               3.5   \n",
        "Chandler Inn                                                4.0   \n",
        "Newbury Guest House                                         4.0   \n",
        "...                                                         ...   \n",
        "Charlesmark Hotel                                           4.0   \n",
        "The Verb Hotel                                              4.5   \n",
        "Loews Boston Hotel                                          4.5   \n",
        "Residence Inn by Marriott Boston Harbor on Tudor Wharf      4.5   \n",
        "Hilton Boston Back Bay                                      4.0   \n",
        "Battery Wharf Hotel, Boston Waterfront                      4.5   \n",
        "Seaport Boston Hotel                                        4.5   \n",
        "Americas Best Value Inn                                     2.5   \n",
        "Beacon Hill Hotel and Bistro                                4.0   \n",
        "Hampton Inn & Suites Boston Crosstown Center                4.0   \n",
        "Omni Parker House                                           4.5   \n",
        "Colonnade Hotel                                             4.5   \n",
        "The Westin Copley Place                                     4.5   \n",
        "The Langham, Boston                                         4.5   \n",
        "Residence Inn Boston Downtown Seaport                       4.5   \n",
        "Milner Hotel                                                3.5   \n",
        "Hyatt Regency Boston                                        4.0   \n",
        "The Fairmont Copley Plaza, Boston                           4.5   \n",
        "Taj Boston                                                  4.0   \n",
        "Courtyard by Marriott Boston Logan Airport                  4.0   \n",
        "Hotel Commonwealth                                          5.0   \n",
        "Revere Hotel Boston Common                                  4.5   \n",
        "Residence Inn Boston Back Bay / Fenway                      4.5   \n",
        "The Inn At St Botolph                                       4.5   \n",
        "Comfort Inn - Boston                                        3.5   \n",
        "Club Quarters in Boston                                     4.0   \n",
        "Hotel 140                                                   4.0   \n",
        "BEST WESTERN University Hotel Boston-Brighton               4.0   \n",
        "Eliot Hotel                                                 4.5   \n",
        "Constitution Inn                                            3.5   \n",
        "\n",
        "                                                        Sleep_Quality  Solo  \\\n",
        "XV Beacon                                                         4.5    40   \n",
        "Courtyard Boston Downtown                                         3.0    72   \n",
        "The Ritz-Carlton Boston Common                                    4.5    19   \n",
        "Harborside Inn                                                    4.0    74   \n",
        "Onyx Hotel - a Kimpton Hotel                                      4.5    55   \n",
        "Boston Hotel Buckminster                                          4.0    63   \n",
        "Sheraton Boston Hotel                                             4.5    17   \n",
        "DoubleTree Suites by Hilton Boston-Cambridge                      4.0    68   \n",
        "The Liberty Hotel                                                 4.0    28   \n",
        "Courtyard by Marriott Boston Copley Square                        4.5    70   \n",
        "Days Hotel Boston                                                 3.0    12   \n",
        "Four Seasons Hotel Boston                                         5.0    47   \n",
        "Hilton Boston Downtown / Faneuil Hall                             4.0    30   \n",
        "DoubleTree Club by Hilton Hotel Boston Bayside                    3.5    76   \n",
        "Marriott's Custom House                                           4.5    15   \n",
        "Embassy Suites Boston Logan Airport                               4.0    77   \n",
        "Nine Zero Hotel - a Kimpton Hotel                                 4.5   119   \n",
        "Holiday Inn Express Hotel & Suites Boston Garden                  3.5    16   \n",
        "Ramada Boston                                                     3.5    83   \n",
        "Ames Boston Hotel                                                 4.5    65   \n",
        "DoubleTree by Hilton Hotel Boston - Downtown                      4.5    19   \n",
        "Courtyard Boston-South Boston                                     3.5    22   \n",
        "Boston Marriott Long Wharf                                        4.0    38   \n",
        "InterContinental Boston                                           4.5   127   \n",
        "Boston Park Plaza                                                 3.5   293   \n",
        "Boston Marriott Copley Place                                      4.0    95   \n",
        "Boston Harbor Hotel                                               4.5    55   \n",
        "The Boston Common Hotel and Conference Center                     3.5    37   \n",
        "Chandler Inn                                                      4.0   126   \n",
        "Newbury Guest House                                               4.5    26   \n",
        "...                                                               ...   ...   \n",
        "Charlesmark Hotel                                                 4.0    95   \n",
        "The Verb Hotel                                                    4.5    18   \n",
        "Loews Boston Hotel                                                4.5    22   \n",
        "Residence Inn by Marriott Boston Harbor on Tudor Wharf            4.5    25   \n",
        "Hilton Boston Back Bay                                            4.0   116   \n",
        "Battery Wharf Hotel, Boston Waterfront                            4.5    51   \n",
        "Seaport Boston Hotel                                              4.5   108   \n",
        "Americas Best Value Inn                                           2.5     2   \n",
        "Beacon Hill Hotel and Bistro                                      4.0    15   \n",
        "Hampton Inn & Suites Boston Crosstown Center                      3.5    56   \n",
        "Omni Parker House                                                 4.0   252   \n",
        "Colonnade Hotel                                                   4.5   103   \n",
        "The Westin Copley Place                                           4.5   103   \n",
        "The Langham, Boston                                               4.5    51   \n",
        "Residence Inn Boston Downtown Seaport                             4.5     4   \n",
        "Milner Hotel                                                      3.5    77   \n",
        "Hyatt Regency Boston                                              4.0   115   \n",
        "The Fairmont Copley Plaza, Boston                                 4.5    71   \n",
        "Taj Boston                                                        4.5    77   \n",
        "Courtyard by Marriott Boston Logan Airport                        4.0    40   \n",
        "Hotel Commonwealth                                                5.0   147   \n",
        "Revere Hotel Boston Common                                        4.5    78   \n",
        "Residence Inn Boston Back Bay / Fenway                            4.5    16   \n",
        "The Inn At St Botolph                                             4.5    51   \n",
        "Comfort Inn - Boston                                              3.0    17   \n",
        "Club Quarters in Boston                                           4.0   112   \n",
        "Hotel 140                                                         4.0   108   \n",
        "BEST WESTERN University Hotel Boston-Brighton                     4.0    27   \n",
        "Eliot Hotel                                                       4.5    29   \n",
        "Constitution Inn                                                  3.5    33   \n",
        "\n",
        "                                                        Terrible  Value  \\\n",
        "XV Beacon                                                      9    4.0   \n",
        "Courtyard Boston Downtown                                     81    3.0   \n",
        "The Ritz-Carlton Boston Common                                13    4.0   \n",
        "Harborside Inn                                                41    4.0   \n",
        "Onyx Hotel - a Kimpton Hotel                                  22    4.0   \n",
        "Boston Hotel Buckminster                                      70    4.0   \n",
        "Sheraton Boston Hotel                                         19    4.0   \n",
        "DoubleTree Suites by Hilton Boston-Cambridge                  35    4.0   \n",
        "The Liberty Hotel                                             32    3.5   \n",
        "Courtyard by Marriott Boston Copley Square                    11    4.5   \n",
        "Days Hotel Boston                                             33    3.0   \n",
        "Four Seasons Hotel Boston                                     13    4.0   \n",
        "Hilton Boston Downtown / Faneuil Hall                         30    3.5   \n",
        "DoubleTree Club by Hilton Hotel Boston Bayside                37    3.5   \n",
        "Marriott's Custom House                                       12    4.0   \n",
        "Embassy Suites Boston Logan Airport                           40    4.0   \n",
        "Nine Zero Hotel - a Kimpton Hotel                             19    4.0   \n",
        "Holiday Inn Express Hotel & Suites Boston Garden              19    3.5   \n",
        "Ramada Boston                                                127    3.5   \n",
        "Ames Boston Hotel                                             15    4.0   \n",
        "DoubleTree by Hilton Hotel Boston - Downtown                   8    4.0   \n",
        "Courtyard Boston-South Boston                                 12    4.0   \n",
        "Boston Marriott Long Wharf                                    26    3.5   \n",
        "InterContinental Boston                                       47    4.0   \n",
        "Boston Park Plaza                                            516    3.5   \n",
        "Boston Marriott Copley Place                                  35    3.5   \n",
        "Boston Harbor Hotel                                           11    4.5   \n",
        "The Boston Common Hotel and Conference Center                 33    3.5   \n",
        "Chandler Inn                                                  25    4.0   \n",
        "Newbury Guest House                                           14    4.0   \n",
        "...                                                          ...    ...   \n",
        "Charlesmark Hotel                                             18    4.0   \n",
        "The Verb Hotel                                                 2    4.5   \n",
        "Loews Boston Hotel                                             3    4.0   \n",
        "Residence Inn by Marriott Boston Harbor on Tudor Wharf         4    4.0   \n",
        "Hilton Boston Back Bay                                        27    4.0   \n",
        "Battery Wharf Hotel, Boston Waterfront                         9    4.0   \n",
        "Seaport Boston Hotel                                          31    4.5   \n",
        "Americas Best Value Inn                                        5    3.0   \n",
        "Beacon Hill Hotel and Bistro                                   4    4.0   \n",
        "Hampton Inn & Suites Boston Crosstown Center                  22    4.0   \n",
        "Omni Parker House                                            134    4.0   \n",
        "Colonnade Hotel                                               49    4.0   \n",
        "The Westin Copley Place                                       34    4.0   \n",
        "The Langham, Boston                                           29    4.0   \n",
        "Residence Inn Boston Downtown Seaport                          1    4.0   \n",
        "Milner Hotel                                                  64    3.5   \n",
        "Hyatt Regency Boston                                          55    3.5   \n",
        "The Fairmont Copley Plaza, Boston                             29    4.0   \n",
        "Taj Boston                                                    32    4.0   \n",
        "Courtyard by Marriott Boston Logan Airport                    18    3.5   \n",
        "Hotel Commonwealth                                            13    4.5   \n",
        "Revere Hotel Boston Common                                    17    4.0   \n",
        "Residence Inn Boston Back Bay / Fenway                         3    4.5   \n",
        "The Inn At St Botolph                                          2    4.5   \n",
        "Comfort Inn - Boston                                          27    3.5   \n",
        "Club Quarters in Boston                                       34    4.0   \n",
        "Hotel 140                                                     45    4.0   \n",
        "BEST WESTERN University Hotel Boston-Brighton                 21    4.0   \n",
        "Eliot Hotel                                                   23    4.0   \n",
        "Constitution Inn                                              49    3.5   \n",
        "\n",
        "                                                        Very_good  avg_score  \\\n",
        "XV Beacon                                                     139   4.622807   \n",
        "Courtyard Boston Downtown                                     233   3.087871   \n",
        "The Ritz-Carlton Boston Common                                111   4.255361   \n",
        "Harborside Inn                                                460   4.070600   \n",
        "Onyx Hotel - a Kimpton Hotel                                  326   4.210580   \n",
        "Boston Hotel Buckminster                                      373   3.608696   \n",
        "Sheraton Boston Hotel                                         224   4.052533   \n",
        "DoubleTree Suites by Hilton Boston-Cambridge                  443   4.029135   \n",
        "The Liberty Hotel                                             211   4.224462   \n",
        "Courtyard by Marriott Boston Copley Square                    276   4.554865   \n",
        "Days Hotel Boston                                              32   2.763158   \n",
        "Four Seasons Hotel Boston                                     140   4.658915   \n",
        "Hilton Boston Downtown / Faneuil Hall                         340   3.960000   \n",
        "DoubleTree Club by Hilton Hotel Boston Bayside                346   3.754757   \n",
        "Marriott's Custom House                                       146   4.551601   \n",
        "Embassy Suites Boston Logan Airport                           517   4.009834   \n",
        "Nine Zero Hotel - a Kimpton Hotel                             496   4.523237   \n",
        "Holiday Inn Express Hotel & Suites Boston Garden              115   3.692810   \n",
        "Ramada Boston                                                 235   3.075000   \n",
        "Ames Boston Hotel                                             258   4.309195   \n",
        "DoubleTree by Hilton Hotel Boston - Downtown                  178   4.172340   \n",
        "Courtyard Boston-South Boston                                 162   3.863372   \n",
        "Boston Marriott Long Wharf                                    467   4.231008   \n",
        "InterContinental Boston                                       526   4.397997   \n",
        "Boston Park Plaza                                            1316   3.259887   \n",
        "Boston Marriott Copley Place                                  937   4.002451   \n",
        "Boston Harbor Hotel                                           189   4.707200   \n",
        "The Boston Common Hotel and Conference Center                 158   3.282167   \n",
        "Chandler Inn                                                  406   3.986014   \n",
        "Newbury Guest House                                           185   4.107798   \n",
        "...                                                           ...        ...   \n",
        "Charlesmark Hotel                                             302   4.180371   \n",
        "The Verb Hotel                                                 56   4.653061   \n",
        "Loews Boston Hotel                                            216   4.492866   \n",
        "Residence Inn by Marriott Boston Harbor on Tudor Wharf        182   4.375723   \n",
        "Hilton Boston Back Bay                                        731   4.016989   \n",
        "Battery Wharf Hotel, Boston Waterfront                        197   4.475694   \n",
        "Seaport Boston Hotel                                          506   4.637397   \n",
        "Americas Best Value Inn                                         2   2.722222   \n",
        "Beacon Hill Hotel and Bistro                                   46   4.125874   \n",
        "Hampton Inn & Suites Boston Crosstown Center                  215   3.955986   \n",
        "Omni Parker House                                            1490   4.129733   \n",
        "Colonnade Hotel                                               513   4.409598   \n",
        "The Westin Copley Place                                       832   4.219332   \n",
        "The Langham, Boston                                           419   4.374468   \n",
        "Residence Inn Boston Downtown Seaport                          52   4.619658   \n",
        "Milner Hotel                                                  119   3.013587   \n",
        "Hyatt Regency Boston                                          738   3.904343   \n",
        "The Fairmont Copley Plaza, Boston                             434   4.337058   \n",
        "Taj Boston                                                    374   4.085440   \n",
        "Courtyard by Marriott Boston Logan Airport                    176   3.697674   \n",
        "Hotel Commonwealth                                            442   4.737610   \n",
        "Revere Hotel Boston Common                                    619   4.402051   \n",
        "Residence Inn Boston Back Bay / Fenway                        135   4.578544   \n",
        "The Inn At St Botolph                                         105   4.594406   \n",
        "Comfort Inn - Boston                                           94   3.348432   \n",
        "Club Quarters in Boston                                       420   4.078021   \n",
        "Hotel 140                                                     390   3.911249   \n",
        "BEST WESTERN University Hotel Boston-Brighton                 132   3.695291   \n",
        "Eliot Hotel                                                   196   4.323056   \n",
        "Constitution Inn                                              131   3.206813   \n",
        "\n",
        "                                                       is_excellent  \n",
        "XV Beacon                                                      True  \n",
        "Courtyard Boston Downtown                                     False  \n",
        "The Ritz-Carlton Boston Common                                False  \n",
        "Harborside Inn                                                False  \n",
        "Onyx Hotel - a Kimpton Hotel                                  False  \n",
        "Boston Hotel Buckminster                                      False  \n",
        "Sheraton Boston Hotel                                         False  \n",
        "DoubleTree Suites by Hilton Boston-Cambridge                  False  \n",
        "The Liberty Hotel                                             False  \n",
        "Courtyard by Marriott Boston Copley Square                     True  \n",
        "Days Hotel Boston                                             False  \n",
        "Four Seasons Hotel Boston                                      True  \n",
        "Hilton Boston Downtown / Faneuil Hall                         False  \n",
        "DoubleTree Club by Hilton Hotel Boston Bayside                False  \n",
        "Marriott's Custom House                                        True  \n",
        "Embassy Suites Boston Logan Airport                           False  \n",
        "Nine Zero Hotel - a Kimpton Hotel                              True  \n",
        "Holiday Inn Express Hotel & Suites Boston Garden              False  \n",
        "Ramada Boston                                                 False  \n",
        "Ames Boston Hotel                                             False  \n",
        "DoubleTree by Hilton Hotel Boston - Downtown                  False  \n",
        "Courtyard Boston-South Boston                                 False  \n",
        "Boston Marriott Long Wharf                                    False  \n",
        "InterContinental Boston                                       False  \n",
        "Boston Park Plaza                                             False  \n",
        "Boston Marriott Copley Place                                  False  \n",
        "Boston Harbor Hotel                                            True  \n",
        "The Boston Common Hotel and Conference Center                 False  \n",
        "Chandler Inn                                                  False  \n",
        "Newbury Guest House                                           False  \n",
        "...                                                             ...  \n",
        "Charlesmark Hotel                                             False  \n",
        "The Verb Hotel                                                 True  \n",
        "Loews Boston Hotel                                             True  \n",
        "Residence Inn by Marriott Boston Harbor on Tudor Wharf        False  \n",
        "Hilton Boston Back Bay                                        False  \n",
        "Battery Wharf Hotel, Boston Waterfront                         True  \n",
        "Seaport Boston Hotel                                           True  \n",
        "Americas Best Value Inn                                       False  \n",
        "Beacon Hill Hotel and Bistro                                  False  \n",
        "Hampton Inn & Suites Boston Crosstown Center                  False  \n",
        "Omni Parker House                                             False  \n",
        "Colonnade Hotel                                                True  \n",
        "The Westin Copley Place                                       False  \n",
        "The Langham, Boston                                           False  \n",
        "Residence Inn Boston Downtown Seaport                          True  \n",
        "Milner Hotel                                                  False  \n",
        "Hyatt Regency Boston                                          False  \n",
        "The Fairmont Copley Plaza, Boston                             False  \n",
        "Taj Boston                                                    False  \n",
        "Courtyard by Marriott Boston Logan Airport                    False  \n",
        "Hotel Commonwealth                                             True  \n",
        "Revere Hotel Boston Common                                    False  \n",
        "Residence Inn Boston Back Bay / Fenway                         True  \n",
        "The Inn At St Botolph                                          True  \n",
        "Comfort Inn - Boston                                          False  \n",
        "Club Quarters in Boston                                       False  \n",
        "Hotel 140                                                     False  \n",
        "BEST WESTERN University Hotel Boston-Brighton                 False  \n",
        "Eliot Hotel                                                   False  \n",
        "Constitution Inn                                              False  \n",
        "\n",
        "[70 rows x 17 columns]"
       ]
      }
     ],
     "prompt_number": 44
    },
    {
     "cell_type": "code",
     "collapsed": false,
     "input": [
      "df.info()"
     ],
     "language": "python",
     "metadata": {},
     "outputs": [
      {
       "output_type": "stream",
       "stream": "stdout",
       "text": [
        "<class 'pandas.core.frame.DataFrame'>\n",
        "Index: 70 entries, XV Beacon to Constitution Inn\n",
        "Data columns (total 17 columns):\n",
        "Average          70 non-null int64\n",
        "Business         70 non-null int64\n",
        "Cleanliness      70 non-null float64\n",
        "Couples          70 non-null int64\n",
        "Excellent        70 non-null int64\n",
        "Familes          70 non-null int64\n",
        "Location         70 non-null float64\n",
        "Poor             70 non-null int64\n",
        "Rooms            70 non-null float64\n",
        "Service          70 non-null float64\n",
        "Sleep_Quality    70 non-null float64\n",
        "Solo             70 non-null int64\n",
        "Terrible         70 non-null int64\n",
        "Value            70 non-null float64\n",
        "Very_good        70 non-null int64\n",
        "avg_score        70 non-null float64\n",
        "is_excellent     70 non-null bool\n",
        "dtypes: bool(1), float64(7), int64(9)"
       ]
      }
     ],
     "prompt_number": 45
    },
    {
     "cell_type": "code",
     "collapsed": false,
     "input": [
      "train = df.head(len(df) / 2)\n",
      "test = df.tail(len(df) / 2)\n",
      "\n",
      "X_train = train[[\"Business\", \"Cleanliness\", \"Couples\", \"Familes\", \"Location\", \"Rooms\", \"Service\", \"Sleep_Quality\", \"Solo\", \"Value\"]]\n",
      "y_train = train.avg_score\n",
      "\n",
      "X_test = test[[\"Business\", \"Cleanliness\", \"Couples\", \"Familes\", \"Location\", \"Rooms\", \"Service\", \"Sleep_Quality\", \"Solo\", \"Value\"]]\n",
      "y_test = test.avg_score\n"
     ],
     "language": "python",
     "metadata": {},
     "outputs": [],
     "prompt_number": 46
    },
    {
     "cell_type": "code",
     "collapsed": false,
     "input": [
      "print(X_train.shape), y_train.shape\n",
      "print(X_test.shape), y_test.shape"
     ],
     "language": "python",
     "metadata": {},
     "outputs": [
      {
       "output_type": "stream",
       "stream": "stdout",
       "text": [
        "(35, 10) (35,)\n",
        "(35, 10) (35,)\n"
       ]
      }
     ],
     "prompt_number": 47
    },
    {
     "cell_type": "code",
     "collapsed": false,
     "input": [
      "X_train.info()"
     ],
     "language": "python",
     "metadata": {},
     "outputs": [
      {
       "output_type": "stream",
       "stream": "stdout",
       "text": [
        "<class 'pandas.core.frame.DataFrame'>\n",
        "Index: 35 entries, Hampton Inn & Suites Boston Crosstown Center to Boston Harbor Hotel\n",
        "Data columns (total 10 columns):\n",
        "Business         35 non-null object\n",
        "Cleanliness      35 non-null object\n",
        "Couples          35 non-null object\n",
        "Familes          35 non-null object\n",
        "Location         35 non-null object\n",
        "Rooms            35 non-null object\n",
        "Service          35 non-null object\n",
        "Sleep_Quality    35 non-null object\n",
        "Solo             35 non-null object\n",
        "Value            35 non-null object\n",
        "dtypes: object(10)"
       ]
      }
     ],
     "prompt_number": 41
    },
    {
     "cell_type": "code",
     "collapsed": false,
     "input": [
      "'''\n",
      "model = sm.OLS(y_train, X_train)\n",
      "results = model.fit()\n",
      "print results.summary()\n",
      "print \"Confidence Intervals:\", results.conf_int()\n",
      "print \"Parameters:\", results.params\n",
      "'''"
     ],
     "language": "python",
     "metadata": {},
     "outputs": [
      {
       "metadata": {},
       "output_type": "pyout",
       "prompt_number": 69,
       "text": [
        "'\\nmodel = sm.OLS(y_train, X_train)\\nresults = model.fit()\\nprint results.summary()\\nprint \"Confidence Intervals:\", results.conf_int()\\nprint \"Parameters:\", results.params\\n'"
       ]
      }
     ],
     "prompt_number": 69
    },
    {
     "cell_type": "code",
     "collapsed": false,
     "input": [
      "regr = linear_model.LinearRegression()\n",
      "regr.fit(X_train, y_train)\n",
      "print(\"Training error: \", metrics.mean_squared_error(regr.predict(X_train),y_train))\n",
      "print(\"Test     error: \", metrics.mean_squared_error(regr.predict(X_test),y_test))"
     ],
     "language": "python",
     "metadata": {},
     "outputs": [
      {
       "output_type": "stream",
       "stream": "stdout",
       "text": [
        "('Training error: ', 0.0064996233428709048)\n",
        "('Test     error: ', 0.014637308736245263)\n"
       ]
      }
     ],
     "prompt_number": 71
    },
    {
     "cell_type": "code",
     "collapsed": false,
     "input": [
      "train_score = regr.score(X_train,y_train)\n",
      "test_score = regr.score(X_test,y_test)\n",
      "print(\"Training score: \", train_score)\n",
      "print(\"Test     score: \", test_score)"
     ],
     "language": "python",
     "metadata": {},
     "outputs": [
      {
       "output_type": "stream",
       "stream": "stdout",
       "text": [
        "('Training score: ', 0.97277848886352003)\n",
        "('Test     score: ', 0.93347468431450897)\n"
       ]
      }
     ],
     "prompt_number": 72
    },
    {
     "cell_type": "code",
     "collapsed": false,
     "input": [
      "features = [\"Business\", \"Cleanliness\", \"Couples\", \"Familes\", \"Location\", \"Rooms\", \"Service\", \"Sleep_Quality\", \"Solo\", \"Value\"]\n",
      "coefficients = regr.coef_\n",
      "# for i in range(len(coefficients)):\n",
      "#     print features[i],\"\\t\",coefficients[i]\n",
      "pd.DataFrame(zip(features, np.transpose(coefficients))).sort(1, 0, ascending=False)"
     ],
     "language": "python",
     "metadata": {},
     "outputs": [
      {
       "html": [
        "<div style=\"max-height:1000px;max-width:1500px;overflow:auto;\">\n",
        "<table border=\"1\" class=\"dataframe\">\n",
        "  <thead>\n",
        "    <tr style=\"text-align: right;\">\n",
        "      <th></th>\n",
        "      <th>0</th>\n",
        "      <th>1</th>\n",
        "    </tr>\n",
        "  </thead>\n",
        "  <tbody>\n",
        "    <tr>\n",
        "      <th>5</th>\n",
        "      <td>         Rooms</td>\n",
        "      <td> 0.312370</td>\n",
        "    </tr>\n",
        "    <tr>\n",
        "      <th>6</th>\n",
        "      <td>       Service</td>\n",
        "      <td> 0.248208</td>\n",
        "    </tr>\n",
        "    <tr>\n",
        "      <th>1</th>\n",
        "      <td>   Cleanliness</td>\n",
        "      <td> 0.233273</td>\n",
        "    </tr>\n",
        "    <tr>\n",
        "      <th>4</th>\n",
        "      <td>      Location</td>\n",
        "      <td> 0.227711</td>\n",
        "    </tr>\n",
        "    <tr>\n",
        "      <th>9</th>\n",
        "      <td>         Value</td>\n",
        "      <td> 0.099071</td>\n",
        "    </tr>\n",
        "    <tr>\n",
        "      <th>7</th>\n",
        "      <td> Sleep_Quality</td>\n",
        "      <td> 0.035143</td>\n",
        "    </tr>\n",
        "    <tr>\n",
        "      <th>3</th>\n",
        "      <td>       Familes</td>\n",
        "      <td> 0.000079</td>\n",
        "    </tr>\n",
        "    <tr>\n",
        "      <th>0</th>\n",
        "      <td>      Business</td>\n",
        "      <td> 0.000052</td>\n",
        "    </tr>\n",
        "    <tr>\n",
        "      <th>2</th>\n",
        "      <td>       Couples</td>\n",
        "      <td> 0.000041</td>\n",
        "    </tr>\n",
        "    <tr>\n",
        "      <th>8</th>\n",
        "      <td>          Solo</td>\n",
        "      <td>-0.000565</td>\n",
        "    </tr>\n",
        "  </tbody>\n",
        "</table>\n",
        "</div>"
       ],
       "metadata": {},
       "output_type": "pyout",
       "prompt_number": 82,
       "text": [
        "               0         1\n",
        "5          Rooms  0.312370\n",
        "6        Service  0.248208\n",
        "1    Cleanliness  0.233273\n",
        "4       Location  0.227711\n",
        "9          Value  0.099071\n",
        "7  Sleep_Quality  0.035143\n",
        "3        Familes  0.000079\n",
        "0       Business  0.000052\n",
        "2        Couples  0.000041\n",
        "8           Solo -0.000565"
       ]
      }
     ],
     "prompt_number": 82
    },
    {
     "cell_type": "markdown",
     "metadata": {},
     "source": [
      "**Linear Regression Conclusion:**\n",
      "\n",
      "As we can see, \"Rooms\" is the value most correlates with high ratings.\n",
      "\n",
      "\"Cleanliness,\" and \"Service,\" and \"Location\" are also important.\n",
      "\n",
      "\"Value\" and \"Sleep Quality\" are still indicative, though less important.\n",
      "\n",
      "None of the other data correlates."
     ]
    },
    {
     "cell_type": "code",
     "collapsed": false,
     "input": [
      "logit = sm.Logit(df['is_excellent'], df[features])\n",
      "result = logit.fit()"
     ],
     "language": "python",
     "metadata": {},
     "outputs": [
      {
       "output_type": "stream",
       "stream": "stdout",
       "text": [
        "Optimization terminated successfully.\n",
        "         Current function value: 0.462602\n",
        "         Iterations 7\n"
       ]
      }
     ],
     "prompt_number": 84
    },
    {
     "cell_type": "code",
     "collapsed": false,
     "input": [
      "print result.summary()"
     ],
     "language": "python",
     "metadata": {},
     "outputs": [
      {
       "output_type": "stream",
       "stream": "stdout",
       "text": [
        "                           Logit Regression Results                           \n",
        "==============================================================================\n",
        "Dep. Variable:           is_excellent   No. Observations:                   70\n",
        "Model:                          Logit   Df Residuals:                       60\n",
        "Method:                           MLE   Df Model:                            9\n",
        "Date:                Mon, 06 Apr 2015   Pseudo R-squ.:                  0.1885\n",
        "Time:                        21:29:14   Log-Likelihood:                -32.382\n",
        "converged:                       True   LL-Null:                       -39.903\n",
        "                                        LLR p-value:                   0.08978\n",
        "=================================================================================\n",
        "                    coef    std err          z      P>|z|      [95.0% Conf. Int.]\n",
        "---------------------------------------------------------------------------------\n",
        "Business          0.0003      0.002      0.142      0.887        -0.004     0.005\n",
        "Cleanliness      -0.2732      1.746     -0.156      0.876        -3.696     3.149\n",
        "Couples           0.0065      0.003      2.047      0.041         0.000     0.013\n",
        "Familes           0.0013      0.004      0.367      0.713        -0.006     0.008\n",
        "Location         -2.4291      1.210     -2.007      0.045        -4.801    -0.057\n",
        "Rooms             1.4800      1.426      1.037      0.300        -1.316     4.276\n",
        "Service          -0.8156      2.012     -0.405      0.685        -4.758     3.127\n",
        "Sleep_Quality     1.3230      1.424      0.929      0.353        -1.468     4.114\n",
        "Solo             -0.0401      0.021     -1.928      0.054        -0.081     0.001\n",
        "Value             0.7499      1.444      0.519      0.603        -2.080     3.579\n",
        "=================================================================================\n"
       ]
      }
     ],
     "prompt_number": 85
    },
    {
     "cell_type": "code",
     "collapsed": false,
     "input": [
      "logistic_regr = linear_model.LogisticRegression()\n",
      "logistic_regr.fit(X_train, y_train)\n",
      "\n",
      "y_predicted = logistic_regr.predict(X_test)\n",
      "print y_predicted\n",
      "\n",
      "probs = logistic_regr.predict_proba(X_test)\n",
      "print probs\n",
      "\n",
      "print pd.DataFrame(zip(df.columns, np.transpose(logistic_regr.coef_)))"
     ],
     "language": "python",
     "metadata": {},
     "outputs": [
      {
       "output_type": "stream",
       "stream": "stdout",
       "text": [
        "[ 4.55486542  4.52323674  4.55486542  3.75475687  4.39799684  3.08787129\n",
        "  4.57777778  4.22446237  3.86337209  3.75475687  4.21057986  4.55486542\n",
        "  4.64215686  4.10779817  4.55486542  4.52323674  4.39799684  4.00245098\n",
        "  4.22446237  3.69281046  4.55486542  4.39799684  4.7072      4.39799684\n",
        "  4.55486542  3.62138728  4.52323674  2.76315789  3.28216704  3.69281046\n",
        "  3.08787129  3.60869565  2.76315789  4.21057986  4.57777778]\n",
        "[[  1.11422001e-39   4.47044786e-24   2.45976001e-05 ...,   1.76270967e-15\n",
        "    2.77819496e-08   6.41489368e-14]\n",
        " [  3.48140041e-71   4.37580423e-30   4.50573695e-83 ...,   1.13973804e-66\n",
        "    1.07648110e-11   1.73593435e-02]\n",
        " [  1.06212823e-44   6.21267361e-47   1.38678831e-01 ...,   1.38678800e-01\n",
        "    1.12499738e-03   1.81278727e-05]\n",
        " ..., \n",
        " [  1.94957862e-01   1.94635244e-01   2.71289543e-19 ...,   9.71901386e-12\n",
        "    1.18621064e-02   1.97113678e-06]\n",
        " [  3.55690401e-08   2.19264720e-06   9.36607957e-27 ...,   1.11085100e-17\n",
        "    8.13660283e-02   1.31377411e-02]\n",
        " [  5.75950423e-05   1.46684670e-01   7.51231310e-13 ...,   1.70820745e-07\n",
        "    1.57104110e-03   2.56933440e-05]]\n",
        "             0                                                  1\n",
        "0      Average  [-0.0704789952421, -0.16138733225, 0.197420076...\n",
        "1     Business  [0.170423237763, -0.121474961551, -0.095471295...\n",
        "2  Cleanliness  [-0.245466748713, -0.105420311069, -0.11644518...\n",
        "3      Couples  [0.148013922066, 0.0863364575971, -0.303642513...\n",
        "4    Excellent  [0.221380815044, -0.143808017757, -0.079760666...\n",
        "5      Familes  [0.176355301182, -0.126100048713, -0.089397626...\n",
        "6     Location  [0.178943349332, -0.119231628146, -0.073632253...\n",
        "7         Poor  [0.182969777237, -0.116880891281, -0.106791261...\n",
        "8        Rooms  [0.0644068292132, 0.339066192079, 0.3168359068...\n",
        "9      Service  [0.179177365028, -0.118427060602, -0.080406331...\n"
       ]
      }
     ],
     "prompt_number": 90
    },
    {
     "cell_type": "markdown",
     "metadata": {},
     "source": [
      "** Logistic Regression Conclusion **\n",
      "Logisitic Regression has similar results, but it is slightly different.\n",
      "\n",
      "Location is now most important property, followed by \"Rooms\" and \"Sleep Quality\""
     ]
    },
    {
     "cell_type": "code",
     "collapsed": false,
     "input": [
      "# Code for setting the style of the notebook\n",
      "from IPython.core.display import HTML\n",
      "def css_styling():\n",
      "    styles = open(\"../../theme/custom.css\", \"r\").read()\n",
      "    return HTML(styles)\n",
      "css_styling()"
     ],
     "language": "python",
     "metadata": {},
     "outputs": [
      {
       "html": [
        "<link href='http://fonts.googleapis.com/css?family=EB+Garamond' rel='stylesheet' type='text/css'>\n",
        "<link href='http://fonts.googleapis.com/css?family=Alegreya+Sans:100,300,400,500,700,800,900,100italic,300italic,400italic,500italic,700italic,800italic,900italic' rel='stylesheet' type='text/css'>\n",
        "<link href='http://fonts.googleapis.com/css?family=Source+Code+Pro:300,400' rel='stylesheet' type='text/css'>\n",
        "<style>\n",
        "    @font-face {\n",
        "        font-family: \"Computer Modern\";\n",
        "        src: url('http://mirrors.ctan.org/fonts/cm-unicode/fonts/otf/cmunss.otf');\n",
        "    }\n",
        "    .code_cell {\n",
        "        width: 105ex !important ;\n",
        "        margin-bottom: 15px !important;\n",
        "    }\n",
        "    div.cell {\n",
        "        margin-left: auto;\n",
        "        margin-right: auto;\n",
        "        width: 70%;\n",
        "    }    \n",
        "    div.cell.selected {\n",
        "        border: thin rgba(171, 171, 171, 0.5) dashed;\n",
        "    }\n",
        "    h1 {\n",
        "        font-family: 'Alegreya Sans', sans-serif;\n",
        "    }\n",
        "    h2 {\n",
        "        font-family: 'EB Garamond', serif;\n",
        "    }\n",
        "    h3 {\n",
        "        font-family: 'EB Garamond', serif;\n",
        "        margin-top:12px;\n",
        "        margin-bottom: 3px;\n",
        "    }\n",
        "    h4 {\n",
        "        font-family: 'EB Garamond', serif;\n",
        "    }\n",
        "    h5 {\n",
        "        font-family: 'Alegreya Sans', sans-serif;\n",
        "    }\n",
        "    div.text_cell_render {\n",
        "        font-family: 'EB Garamond',Computer Modern, \"Helvetica Neue\", Arial, Helvetica, Geneva, sans-serif;\n",
        "        line-height: 145%;\n",
        "        font-size: 140%;\n",
        "    }\n",
        "    div.input_area {\n",
        "        border-color: rgba(0,0,0,0.10) !important;\n",
        "        background: #fafafa;\n",
        "    }\n",
        "    .CodeMirror {\n",
        "            font-family: \"Source Code Pro\";\n",
        "            font-size: 90%;\n",
        "    }\n",
        "    .prompt {\n",
        "        display: None;\n",
        "    }\n",
        "    .output {\n",
        "        padding-left: 50px;\n",
        "        padding-top: 5px;\n",
        "    }\n",
        "    .output_wrapper {\n",
        "        padding-left: 5px;\n",
        "        padding-top: inherit;\n",
        "    }\n",
        "    div.output_scroll {\n",
        "        width: inherit;\n",
        "    }\n",
        "    .inner_cell {\n",
        "        padding-left: 5px;\n",
        "    }\n",
        "    .text_cell_render h1 {\n",
        "        font-weight: 200;\n",
        "        font-size: 50pt;\n",
        "        line-height: 100%;\n",
        "        color:#CD2305;\n",
        "        margin-bottom: 0.5em;\n",
        "        margin-top: 0.5em;\n",
        "        display: block;\n",
        "    }\n",
        "    .text_cell_render h5 {\n",
        "        font-weight: 300;\n",
        "        font-size: 16pt;\n",
        "        color: #CD2305;\n",
        "        font-style: italic;\n",
        "        margin-bottom: .5em;\n",
        "        margin-top: 0.5em;\n",
        "        display: block;\n",
        "    }\n",
        "    .warning {\n",
        "        color: rgb( 240, 20, 20 )\n",
        "        }  \n",
        "</style>\n",
        "<script>\n",
        "    MathJax.Hub.Config({\n",
        "                        TeX: {\n",
        "                           extensions: [\"AMSmath.js\"]\n",
        "                           },\n",
        "                tex2jax: {\n",
        "                    inlineMath: [ ['$','$'], [\"\\\\(\",\"\\\\)\"] ],\n",
        "                    displayMath: [ ['$$','$$'], [\"\\\\[\",\"\\\\]\"] ]\n",
        "                },\n",
        "                displayAlign: 'center', // Change this to 'center' to center equations.\n",
        "                \"HTML-CSS\": {\n",
        "                    styles: {'.MathJax_Display': {\"margin\": 4}}\n",
        "                }\n",
        "        });\n",
        "</script>"
       ],
       "metadata": {},
       "output_type": "pyout",
       "prompt_number": 1,
       "text": [
        "<IPython.core.display.HTML at 0x1043920d0>"
       ]
      }
     ],
     "prompt_number": 1
    },
    {
     "cell_type": "code",
     "collapsed": false,
     "input": [],
     "language": "python",
     "metadata": {},
     "outputs": []
    },
    {
     "cell_type": "code",
     "collapsed": false,
     "input": [],
     "language": "python",
     "metadata": {},
     "outputs": []
    }
   ],
   "metadata": {}
  }
 ]
}